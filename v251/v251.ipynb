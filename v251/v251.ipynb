{
 "metadata": {
  "name": "",
  "signature": "sha256:6583c0071da41d6b381e73da9aa1f3c736cf8509480b9246a3006e81b8def132"
 },
 "nbformat": 3,
 "nbformat_minor": 0,
 "worksheets": [
  {
   "cells": [
    {
     "cell_type": "markdown",
     "metadata": {},
     "source": [
      "Ipython3 Notebook for experiment nr. 251\n",
      "================\n",
      "\n",
      "it is assumend, that this notebook is in the same directory as the module for this experiment.\n",
      "\n",
      "change the filenames and paths according to your set up"
     ]
    },
    {
     "cell_type": "code",
     "collapsed": false,
     "input": [
      "## using inline plots\n",
      "%matplotlib inline\n",
      "\n",
      "## importing the necessary modules\n",
      "import numpy as np\n",
      "import matplotlib.pyplot as plt\n",
      "import pylab as py\n",
      "import ap22_module as main\n",
      "import uncertainties as unc\n",
      "import uncertainties.unumpy as unp\n",
      "from scipy.optimize import curve_fit\n",
      "import matplotlib as mpl; mpl.rc('text', usetex=True) ## if latex complains about anything, re-run the cell and hope for the best ;)"
     ],
     "language": "python",
     "metadata": {},
     "outputs": [],
     "prompt_number": 2
    },
    {
     "cell_type": "markdown",
     "metadata": {},
     "source": [
      "(Teil des Messprotokolls: Messung des Plateaus)\n",
      "==="
     ]
    },
    {
     "cell_type": "code",
     "collapsed": false,
     "input": [
      "##loading the data for the 'Plateaumessung'\n",
      "N, U = main.load_data('.data/messwerte_plateau.dat')\n",
      "N_err = np.sqrt(N)\n",
      "\n",
      "N_plateau = np.mean(N)\n",
      "N_plateau_err = np.sqrt(N_plateau)\n",
      "print(N_plateau, N_plateau_err)\n",
      "\n",
      "## plotting section\n",
      "fig = plt.figure(figsize=(12,9))\n",
      "ax = fig.add_subplot(111)\n",
      "ax.errorbar(U, N, yerr=N_err, fmt='r.', label='Messwerte')\n",
      "ax.set_ylim(0,1300)\n",
      "ax.set_xlabel('$Spannung\\ U\\ \\mathrm{[V]}$')\n",
      "ax.set_ylabel('$Z \\\\\"{a}hlrate\\ N$')\n",
      "ax.set_title('$Plot\\ 0: Messung\\ der\\ Z \\\\\"{a}hlrohrcharakteristik')\n",
      "ax.grid(axis='both')\n",
      "ax.legend()"
     ],
     "language": "python",
     "metadata": {},
     "outputs": [
      {
       "output_type": "stream",
       "stream": "stdout",
       "text": [
        "1159.2 34.0470263019\n"
       ]
      },
      {
       "metadata": {},
       "output_type": "pyout",
       "prompt_number": 16,
       "text": [
        "<matplotlib.legend.Legend at 0x7f6dc13261d0>"
       ]
      },
      {
       "metadata": {},
       "output_type": "display_data",
       "png": "[encoded data removed]",
       "text": [
        "<matplotlib.figure.Figure at 0x7f6dc13f69b0>"
       ]
      }
     ],
     "prompt_number": 16
    },
    {
     "cell_type": "markdown",
     "metadata": {},
     "source": [
      "Auswertung\n",
      "==="
     ]
    },
    {
     "cell_type": "markdown",
     "metadata": {},
     "source": [
      "- #Plateaubereich des Z\u00e4hlrohrs"
     ]
    },
    {
     "cell_type": "code",
     "collapsed": false,
     "input": [
      "##loading data\n",
      "N60, N180, U = main.load_data('.data/plateauanstieg.dat')\n",
      "\n",
      "#N60[1]-N60[0], N180[1]-N180[0]\n",
      "print('N60[1]-N60[0]\\tN180[1]-N180[0]\\n', N60[1]-N60[0], '\\t', N180[1]-N180[0])\n",
      "\n",
      "#prozentueller anstieg\n"
     ],
     "language": "python",
     "metadata": {},
     "outputs": [
      {
       "output_type": "stream",
       "stream": "stdout",
       "text": [
        "N60[1]-N60[0]\tN180[1]-N180[0]\n",
        " -281.0 \t 128.0\n"
       ]
      }
     ],
     "prompt_number": 20
    },
    {
     "cell_type": "code",
     "collapsed": false,
     "input": [],
     "language": "python",
     "metadata": {},
     "outputs": []
    }
   ],
   "metadata": {}
  }
 ]
}