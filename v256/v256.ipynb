{
 "metadata": {
  "name": "",
  "signature": "sha256:6cda97365d5e92cbc00acda2b816917ddee9eadec69a9f00b595e6eb265cefc0"
 },
 "nbformat": 3,
 "nbformat_minor": 0,
 "worksheets": [
  {
   "cells": [
    {
     "cell_type": "markdown",
     "metadata": {},
     "source": [
      "Ipython3 Notebook for experiment nr. 256\n",
      "================\n",
      "\n",
      "it is assumend, that this notebook is in the same directory as the module for this experiment.\n",
      "\n",
      "change the filenames and paths according to your set up"
     ]
    },
    {
     "cell_type": "code",
     "collapsed": false,
     "input": [
      "## using inline plots, only use for testing, turn off later. (it somehow affects the size of the saved plots)\n",
      "%matplotlib inline\n",
      "\n",
      "## importing the necessary modules\n",
      "import numpy as np\n",
      "import matplotlib.pyplot as plt\n",
      "import pylab as py\n",
      "import ap22_module as main\n",
      "from scipy.optimize import curve_fit"
     ],
     "language": "python",
     "metadata": {},
     "outputs": [],
     "prompt_number": 16
    },
    {
     "cell_type": "code",
     "collapsed": false,
     "input": [
      "## getting data from file\n",
      "data_alpha = np.loadtxt('.data/data_list_alpha.csv', delimiter=',', skiprows=1, usecols=(1,2,3,4,5))\n",
      "\n",
      "## Kernladungszahl, Ealpha, Ealpha Fehler, Wurzel Ealpha, Fehler Wurzel Ealpha\n",
      "z = np.array([i[0] for i in data_alpha])\n",
      "e_alpha = np.array([i[1] for i in data_alpha])\n",
      "e_alpha_err = np.array([i[2] for i in data_alpha])\n",
      "sqrt_e_alpha = np.array([i[3] for i in data_alpha])\n",
      "sqrt_e_alpha_err = np.array([i[4] for i in data_alpha])\n",
      "\n",
      "print(z)"
     ],
     "language": "python",
     "metadata": {},
     "outputs": [
      {
       "output_type": "stream",
       "stream": "stdout",
       "text": [
        "[ 26.  28.  22.  40.  47.  30.  29.  42.]\n"
       ]
      }
     ],
     "prompt_number": 17
    },
    {
     "cell_type": "code",
     "collapsed": false,
     "input": [
      "## defining the function for the fit:\n",
      "## z, n1, n2 are fixed. Er, sigma12 are free parameters\n",
      "## fix_par is a touple of z,n1,n2\n",
      "def e_fit(fix_par, Er, sigma12):\n",
      "    z,n1,n2 = fix_par\n",
      "    return np.sqrt(Er)*(z-sigma12)*np.sqrt(n1**(-2) - n2**(-2))\n",
      "\n",
      "\n",
      "## now we will fit the function\n",
      "## n1, n2 Hauptquantenzahlen\n",
      "n1 = 1\n",
      "n2 = 2\n",
      "popt, pcov = curve_fit(e_fit, (z,n1,n2), sqrt_e_alpha, sigma=sqrt_e_alpha_err ,p0=[1, 1])\n",
      "\n",
      "test = e_fit((z,n1,n2), *popt)\n",
      "print(popt)"
     ],
     "language": "python",
     "metadata": {},
     "outputs": [
      {
       "output_type": "stream",
       "stream": "stdout",
       "text": [
        "[ 0.01418492  1.47625331]\n"
       ]
      }
     ],
     "prompt_number": 18
    },
    {
     "cell_type": "code",
     "collapsed": false,
     "input": [
      "plt.errorbar(z, sqrt_e_alpha, yerr=e_alpha_err, fmt='+r')\n",
      "plt.plot(z, test)\n",
      "plt.xticks(z)\n"
     ],
     "language": "python",
     "metadata": {},
     "outputs": [
      {
       "metadata": {},
       "output_type": "pyout",
       "prompt_number": 19,
       "text": [
        "([<matplotlib.axis.XTick at 0x7feb54801668>,\n",
        "  <matplotlib.axis.XTick at 0x7feb54833a58>,\n",
        "  <matplotlib.axis.XTick at 0x7feb549aaf98>,\n",
        "  <matplotlib.axis.XTick at 0x7feb54772eb8>,\n",
        "  <matplotlib.axis.XTick at 0x7feb54776908>,\n",
        "  <matplotlib.axis.XTick at 0x7feb5477a358>,\n",
        "  <matplotlib.axis.XTick at 0x7feb5477ad68>,\n",
        "  <matplotlib.axis.XTick at 0x7feb5477f7b8>],\n",
        " <a list of 8 Text xticklabel objects>)"
       ]
      },
      {
       "metadata": {},
       "output_type": "display_data",
       "png": "[encoded data removed]",
       "text": [
        "<matplotlib.figure.Figure at 0x7feb54960c88>"
       ]
      }
     ],
     "prompt_number": 19
    },
    {
     "cell_type": "code",
     "collapsed": false,
     "input": [
      "## getting data from file\n",
      "data_beta = np.loadtxt('.data/data_list_beta.csv', delimiter=',', skiprows=1, usecols=(1,2,3,4,5))\n",
      "\n",
      "## Kernladungszahl, Ealpha, Ealpha Fehler, Wurzel Ealpha, Fehler Wurzel Ealpha\n",
      "z = np.array([i[0] for i in data_beta])\n",
      "e_beta = np.array([i[1] for i in data_beta])\n",
      "e_beta_err = np.array([i[2] for i in data_beta])\n",
      "sqrt_e_beta = np.array([i[3] for i in data_beta])\n",
      "sqrt_e_beta_err = np.array([i[4] for i in data_beta])\n"
     ],
     "language": "python",
     "metadata": {},
     "outputs": [],
     "prompt_number": 20
    },
    {
     "cell_type": "code",
     "collapsed": false,
     "input": [
      "## now we will fit the function\n",
      "## n1, n2 Hauptquantenzahlen\n",
      "n1 = 1\n",
      "n2 = 3\n",
      "popt, pcov = curve_fit(e_fit, (z,n1,n2), sqrt_e_beta, sigma=sqrt_e_beta_err ,p0=[1, 1])\n",
      "\n",
      "test = e_fit((z,n1,n2), *popt)\n",
      "print(popt)"
     ],
     "language": "python",
     "metadata": {},
     "outputs": [
      {
       "output_type": "stream",
       "stream": "stdout",
       "text": [
        "[ 0.01373961  1.9810142 ]\n"
       ]
      }
     ],
     "prompt_number": 21
    },
    {
     "cell_type": "code",
     "collapsed": false,
     "input": [
      "plt.errorbar(z, sqrt_e_beta, yerr=e_beta_err, fmt='+r')\n",
      "plt.plot(z, test)\n",
      "plt.xticks(z)"
     ],
     "language": "python",
     "metadata": {},
     "outputs": [
      {
       "metadata": {},
       "output_type": "pyout",
       "prompt_number": 22,
       "text": [
        "([<matplotlib.axis.XTick at 0x7feb54932d68>,\n",
        "  <matplotlib.axis.XTick at 0x7feb5477a6d8>,\n",
        "  <matplotlib.axis.XTick at 0x7feb5478b7b8>,\n",
        "  <matplotlib.axis.XTick at 0x7feb54765630>,\n",
        "  <matplotlib.axis.XTick at 0x7feb54769080>,\n",
        "  <matplotlib.axis.XTick at 0x7feb54769a90>,\n",
        "  <matplotlib.axis.XTick at 0x7feb546ed4e0>,\n",
        "  <matplotlib.axis.XTick at 0x7feb546edef0>],\n",
        " <a list of 8 Text xticklabel objects>)"
       ]
      },
      {
       "metadata": {},
       "output_type": "display_data",
       "png": "[encoded data removed]",
       "text": [
        "<matplotlib.figure.Figure at 0x7feb548a6940>"
       ]
      }
     ],
     "prompt_number": 22
    },
    {
     "cell_type": "code",
     "collapsed": false,
     "input": [],
     "language": "python",
     "metadata": {},
     "outputs": [],
     "prompt_number": 22
    }
   ],
   "metadata": {}
  }
 ]
}