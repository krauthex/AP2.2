{
 "metadata": {
  "name": "",
  "signature": "sha256:d4563e3f15e0d193ba1948c63599d61fba31fd2139f27794a8b200907c39f78f"
 },
 "nbformat": 3,
 "nbformat_minor": 0,
 "worksheets": [
  {
   "cells": [
    {
     "cell_type": "code",
     "collapsed": false,
     "input": [],
     "language": "python",
     "metadata": {},
     "outputs": []
    }
   ],
   "metadata": {}
  }
 ]
}