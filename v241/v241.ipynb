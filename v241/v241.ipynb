{
 "metadata": {
  "name": "",
  "signature": "sha256:f94a7d9eba721f145e415edf46d435cdf3d31835bdec65cada4e017bacef5ab3"
 },
 "nbformat": 3,
 "nbformat_minor": 0,
 "worksheets": [
  {
   "cells": [
    {
     "cell_type": "markdown",
     "metadata": {},
     "source": [
      "Ipython3 Notebook for experiment nr. 241\n",
      "================\n",
      "\n",
      "it is assumend, that this notebook is in the same directory as the module for this experiment.\n",
      "\n",
      "change the filenames and paths according to your set up"
     ]
    },
    {
     "cell_type": "code",
     "collapsed": false,
     "input": [
      "## using inline plots\n",
      "%matplotlib inline\n",
      "\n",
      "## importing the necessary modules\n",
      "import numpy as np\n",
      "import matplotlib.pyplot as plt\n",
      "import pylab as py\n",
      "import ap22_module as main\n",
      "import uncertainties as unc\n",
      "import uncertainties.unumpy as unp\n",
      "from scipy.optimize import curve_fit\n",
      "from matplotlib.ticker import FormatStrFormatter"
     ],
     "language": "python",
     "metadata": {},
     "outputs": [],
     "prompt_number": 43
    },
    {
     "cell_type": "markdown",
     "metadata": {},
     "source": [
      "1. Bestimmung der Zeitkonstante eines RC Gliedes\n",
      "===="
     ]
    },
    {
     "cell_type": "code",
     "collapsed": false,
     "input": [
      "## Werteeingabe\n",
      "## Widerst\u00e4nde, Kondensatoren, Frequenz, experimentell gemessene Halbwertszeit\n",
      "R = np.array([1E3, 1E4, 1E3])\n",
      "C = np.array([470E-9, 4.7E-9, 47E-9])\n",
      "f = np.array([150.00, 640.00, 640.00])\n",
      "T_halbwert_exp = np.array([0.34E-3, 0.03E-3, 0.03E-3])\n",
      "\n",
      "##Fehler der Werte\n",
      "R_err = R*0.05\n",
      "C_err = C*0.1\n",
      "T_halbwert_exp_err = T_halbwert_exp/10\n",
      "\n",
      "## Arrays der Werte\n",
      "R = unp.uarray(R, R_err)\n",
      "C = unp.uarray(C, C_err)\n",
      "T_halbwert_exp = unp.uarray(T_halbwert_exp, T_halbwert_exp_err)\n",
      "\n",
      "## Berechnung der Zeitkonstane: T_halbwert_exp/ln(2) = tau\n",
      "tau_exp = T_halbwert_exp / unp.log(2)\n",
      "\n",
      "## Theoretische Werte f\u00fcr tau:\n",
      "tau_theo = R*C\n",
      "\n",
      "## Ergebnisse\n",
      "print(\"C\\t\\tR\\t\\t\\tf\\ttau_exp\\t\\t\\ttau_theo\")\n",
      "for i in [0,1,2]:\n",
      "    print(C[i], R[i], f[i], tau_exp[i], tau_theo[i], sep=\"\\t\")\n"
     ],
     "language": "python",
     "metadata": {},
     "outputs": [
      {
       "output_type": "stream",
       "stream": "stdout",
       "text": [
        "C\t\tR\t\t\tf\ttau_exp\t\t\ttau_theo\n",
        "(4.7+/-0.5)e-07\t(1.00+/-0.05)e+03\t150.0\t0.00049+/-0.00005\t0.00047+/-0.00005\n",
        "(4.7+/-0.5)e-09\t(1.00+/-0.05)e+04\t640.0\t(4.3+/-0.4)e-05\t(4.7+/-0.5)e-05\n",
        "(4.7+/-0.5)e-08\t(1.00+/-0.05)e+03\t640.0\t(4.3+/-0.4)e-05\t(4.7+/-0.5)e-05\n"
       ]
      }
     ],
     "prompt_number": 44
    },
    {
     "cell_type": "markdown",
     "metadata": {},
     "source": [
      "3. Frequenz und Phasenganz eines RC Gliedes\n",
      "==="
     ]
    },
    {
     "cell_type": "code",
     "collapsed": false,
     "input": [
      "## Messwerte\n",
      "f = np.array([1.E3, 2.E3, 3.E3, 4.E3, 5.E3, 6.E3, 7.E3, 8.E3, 9.E3, 10.E3])\n",
      "dt = np.array([0.20E-3, 0.08E-3, 0.05E-3, 30.0E-6, 22.0e-6, 15.0e-6, 11.6e-6, 9.2e-6, 6.4e-6, 5.6e-6])\n",
      "## Fehler delta t\n",
      "dt_err = np.array([2e-5, 2e-5, 2e-5, 2e-7, 2e-7, 2e-7, 2e-7, 2e-7,2e-7, 2e-7])\n",
      "\n",
      "dt = unp.uarray(dt, dt_err)\n",
      "\n",
      "## phase\n",
      "phi = 360 * f * dt\n",
      "\n",
      "phi_test = main.polynom_fit(f, unp.nominal_values(phi), deg=5)\n",
      "\n",
      "## plotten der phase \u00fcber frequenz, linlog\n",
      "plot_margin = 0.1 ## faktor um wei\u00dfen Rand zu vergr\u00f6\u00dfern\n",
      "fig = plt.figure()\n",
      "ax = fig.add_subplot(111)\n",
      "ax.set_xscale('log')\n",
      "ax.errorbar(f, unp.nominal_values(phi), yerr=unp.std_devs(phi), fmt='r.', label='Messdaten')\n",
      "ax.set_xlim(left = np.min(f) * (1-plot_margin), right = np.max(f)*(1+plot_margin))\n",
      "ax.plot(f, phi_test[0], 'k--', label='Interpolation')\n",
      "ax.legend()"
     ],
     "language": "python",
     "metadata": {},
     "outputs": [
      {
       "metadata": {},
       "output_type": "pyout",
       "prompt_number": 45,
       "text": [
        "<matplotlib.legend.Legend at 0x7fdaaceddf98>"
       ]
      },
      {
       "metadata": {},
       "output_type": "display_data",
       "png": "[encoded data removed]",
       "text": [
        "<matplotlib.figure.Figure at 0x7fdaace618d0>"
       ]
      }
     ],
     "prompt_number": 45
    },
    {
     "cell_type": "markdown",
     "metadata": {},
     "source": [
      "4. Frequenzgang eines Serienschwingkreises\n",
      "==="
     ]
    },
    {
     "cell_type": "code",
     "collapsed": false,
     "input": [
      "## Werteeingabe\n",
      "## Widerst\u00e4nde, Kondensatoren, Resonanzfrequenz, Bandbreite, Aus- und Eingangsspannung [Vrms]\n",
      "R = np.array([1E3, 220, 47])\n",
      "C = np.array([47E-9])\n",
      "fr = np.array([3.85E3, 3.68E3, 3.65E3])\n",
      "df = np.array([4.86e3, 1.29e3, 0.55e3])\n",
      "Ua = np.array([0.95, 0.76, 0.34])\n",
      "Ue = np.array([0.98, 0.96, 0.93])\n",
      "\n",
      "##Fehler der Werte\n",
      "R_err = R*0.05\n",
      "C_err = C*0.1\n",
      "fr_err = 0.1E3 * np.ones(np.shape(fr))\n",
      "df_err = 0.1E3 * np.ones(np.shape(df))\n",
      "Ua_err = 0.03 * np.ones(np.shape(Ua))\n",
      "\n",
      "## Arrays der Werte\n",
      "R = unp.uarray(R, R_err)\n",
      "C = unp.uarray(C, C_err)\n",
      "fr = unp.uarray(fr, fr_err)\n",
      "df = unp.uarray(df, df_err)\n",
      "Ua = unp.uarray(Ua, Ua_err)\n",
      "\n",
      "## Berechnung von L aus der Resonanzfrequenz: wr = (LC)**(-.5), wr = 2*pi*fr\n",
      "L = 1/((fr*2*np.pi)**2 * C)\n",
      "L = np.mean(L)\n",
      "L1 = L\n",
      "print(\"Induktivit\u00e4t L:\\n\", L1)\n",
      "\n",
      "## Berechnug der Gesamtwiderstandes R+Rv mittels dw = (R+Rv) / L\n",
      "R_ges = df * 2 * np.pi * L\n",
      "print(\"\\nGesamtwiderstand R+Rv:\\n\", R_ges)\n",
      "\n",
      "## Berechnung des Verlustwiderstandes Rv bei Resonanzfrequenz: Ua = (R / (R+Rv)) * Ue\n",
      "Rv = R*Ue/Ua - R\n",
      "print(\"\\nVerlustwiderstand Rv:\\n\", Rv)\n",
      "\n",
      "## Vergleich der Widerstandswerte:\n",
      "print(\"\\nVergleich der Widerstandswerte:\\naus 3dB Bandbreite \\tbei Resonanzfrequenz\")\n",
      "for i in range(len(Rv)):\n",
      "    print((R_ges-R)[i], Rv[i], sep='\\t\\t')"
     ],
     "language": "python",
     "metadata": {},
     "outputs": [
      {
       "output_type": "stream",
       "stream": "stdout",
       "text": [
        "Induktivit\u00e4t L:\n",
        " 0.039+/-0.004\n",
        "\n",
        "Gesamtwiderstand R+Rv:\n",
        " [1186.9450378240022+/-126.68160645490896\n",
        " 315.05331250884007+/-41.050108752489855\n",
        " 134.3250557208233+/-28.184450650628435]\n",
        "\n",
        "Verlustwiderstand Rv:\n",
        " [31.57894736842104+/-32.61442014380676\n",
        " 57.89473684210526+/-11.345046044456847\n",
        " 81.55882352941177+/-12.054165616378912]\n",
        "\n",
        "Vergleich der Widerstandswerte:\n",
        "aus 3dB Bandbreite \tbei Resonanzfrequenz\n",
        "(1.9+/-1.4)e+02\t\t31.6+/-32.6\n",
        "(1.0+/-0.4)e+02\t\t57.9+/-11.3\n",
        "87.3+/-28.3\t\t81.6+/-12.1\n"
       ]
      }
     ],
     "prompt_number": 46
    },
    {
     "cell_type": "markdown",
     "metadata": {},
     "source": [
      "5. Bestimmung der D\u00e4mpfungskonstanten eines freien, ged\u00e4mpften Schwingkreises\n",
      "==="
     ]
    },
    {
     "cell_type": "code",
     "collapsed": false,
     "input": [
      "##Werteingabe\n",
      "##Amplitude, Schwingungsdauer, Widerstand, Kondensator\n",
      "A = np.array([2.02, 1.36, 0.89, 0.66, 0.52])\n",
      "T = unc.ufloat(0.268e-3, 0.05e-3)\n",
      "R = unc.ufloat(47, 47*0.05)\n",
      "C = unc.ufloat(47e-9, 47e-9*0.1)\n",
      "\n",
      "##Fehler\n",
      "A_err = 0.15 * np.ones(np.shape(A))\n",
      "\n",
      "##Arrays\n",
      "A = unp.uarray(A, A_err)\n",
      "\n",
      "##log. Dekrement: D = log(Ai / Ai+1) = d*T\n",
      "D = np.array([unp.log(A[i]/A[i+1]) for i in range(len(A)-1)])\n",
      "\n",
      "##D\u00e4mpungskonst:\n",
      "d = D/T\n",
      "\n",
      "##Induktivit\u00e4t\n",
      "L = 1./((2*np.pi/T)**2+d**2)/C\n",
      "L = np.mean(L)\n",
      "L2 = L\n",
      "\n",
      "##Gesamtwiderstand\n",
      "R_ges_dekr = d*2*L\n",
      "\n",
      "print(D,\"\\n\\n\", d,'\\n\\n', L2,'\\n\\n', R_ges_dekr)"
     ],
     "language": "python",
     "metadata": {},
     "outputs": [
      {
       "output_type": "stream",
       "stream": "stdout",
       "text": [
        "[array(0.39561281166515266+/-0.1329622415028311, dtype=object)\n",
        " array(0.42401851600391227+/-0.2014206959154245, dtype=object)\n",
        " array(0.29898162770571424+/-0.2829459257835216, dtype=object)\n",
        " array(0.23841102344499815+/-0.36723691499300704, dtype=object)] \n",
        "\n",
        " [1476.1672077057935+/-567.4418964632911\n",
        " 1582.1586418056427+/-807.4575280432115\n",
        " 1115.6030884541576+/-1076.0887557539174\n",
        " 889.5933710634259+/-1380.3014641707182] \n",
        "\n",
        " 0.039+/-0.015 \n",
        "\n",
        " [113.93395911733636+/-45.23747354862497\n",
        " 122.11462026228091+/-63.47977847758791\n",
        " 86.10479626400343+/-83.50163324398454\n",
        " 68.66084969284474+/-106.7165989221185]\n"
       ]
      }
     ],
     "prompt_number": 47
    },
    {
     "cell_type": "markdown",
     "metadata": {},
     "source": [
      "6. Resonanz\u00fcberh\u00f6hung\n",
      "==="
     ]
    },
    {
     "cell_type": "code",
     "collapsed": false,
     "input": [
      "##Werteeingabe\n",
      "##Induktivit\u00e4t (Mittelwert der vorher ermittelten Werte), Widerstand, Kondensator, Resonanzfrequenzen fR, fL, fC\n",
      "L = np.mean([L1, L2])\n",
      "R = unc.ufloat(220, 220*0.05)\n",
      "C = unc.ufloat(47e-9, 47e-9*0.1)\n",
      "f = unp.uarray([3.7e3, 3.8e3, 3.6e3], 0.02e3)\n",
      "\n",
      "##D\u00e4mpfungskonstante\n",
      "d = R/2/L\n",
      "\n",
      "##(theo)Resonanzfrequenzen:\n",
      "wR = unp.sqrt(1/(L*C))\n",
      "wC = unp.sqrt(wR**2 - 2*d**2)\n",
      "wL = unp.sqrt(wR**2 + 2*d**2)\n",
      "w = np.array([wR, wC, wL])\n",
      "\n",
      "##Vergleich:\n",
      "print(\"Exp:\\t\\t\\tTheo.\")\n",
      "for i in range(len(f)):\n",
      "    print(f[i]*2*np.pi, w[i], sep='\\t')"
     ],
     "language": "python",
     "metadata": {},
     "outputs": [
      {
       "output_type": "stream",
       "stream": "stdout",
       "text": [
        "Exp:\t\t\tTheo.\n",
        "(2.325+/-0.013)e+04\t(2.34+/-0.26)e+04\n",
        "(2.388+/-0.013)e+04\t(2.31+/-0.25)e+04\n",
        "(2.262+/-0.013)e+04\t(2.38+/-0.27)e+04\n"
       ]
      }
     ],
     "prompt_number": 52
    },
    {
     "cell_type": "markdown",
     "metadata": {},
     "source": [
      "7. Bandsperre\n",
      "==="
     ]
    },
    {
     "cell_type": "code",
     "collapsed": false,
     "input": [
      "##Werteeingabe\n",
      "##Induktivit\u00e4t, Widerstand, Kondensator, Resonanzfrequenz fR\n",
      "L = np.mean([L1, L2])\n",
      "R = unc.ufloat(1e3, 1e3*0.05)\n",
      "C = unc.ufloat(47e-9, 47e-9*0.1)\n",
      "f = unc.ufloat(3.73e3, 0.05e3)\n",
      "\n",
      "##Resonanzfrequenz\n",
      "wR = unp.sqrt(1/(L*C))\n",
      "\n",
      "##Vergleich\n",
      "print(\"Exp:\\t\\t\\tTheo:\")\n",
      "print(f*2*np.pi, wR, sep='\\t')"
     ],
     "language": "python",
     "metadata": {},
     "outputs": [
      {
       "output_type": "stream",
       "stream": "stdout",
       "text": [
        "Exp:\t\t\tTheo:\n",
        "(2.344+/-0.031)e+04\t(2.34+/-0.26)e+04\n"
       ]
      }
     ],
     "prompt_number": 55
    },
    {
     "cell_type": "markdown",
     "metadata": {},
     "source": [
      "8. Signalformung\n",
      "==="
     ]
    },
    {
     "cell_type": "code",
     "collapsed": false,
     "input": [],
     "language": "python",
     "metadata": {},
     "outputs": []
    }
   ],
   "metadata": {}
  }
 ]
}