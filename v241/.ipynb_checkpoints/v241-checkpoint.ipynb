{
 "metadata": {
  "name": "",
  "signature": "sha256:21def149e545bfc8d46152c8259375718cbf6af7027b86f1de99fabd32453758"
 },
 "nbformat": 3,
 "nbformat_minor": 0,
 "worksheets": [
  {
   "cells": [
    {
     "cell_type": "markdown",
     "metadata": {},
     "source": [
      "Ipython3 Notebook for experiment nr. 241\n",
      "================\n",
      "\n",
      "it is assumend, that this notebook is in the same directory as the module for this experiment.\n",
      "\n",
      "change the filenames and paths according to your set up"
     ]
    },
    {
     "cell_type": "code",
     "collapsed": false,
     "input": [
      "## using inline plots\n",
      "%matplotlib inline\n",
      "\n",
      "## importing the necessary modules\n",
      "import numpy as np\n",
      "import matplotlib.pyplot as plt\n",
      "import pylab as py\n",
      "import ap22_module as main\n",
      "import uncertainties as unc\n",
      "import uncertainties.unumpy as unp\n",
      "from scipy.optimize import curve_fit\n",
      "from matplotlib.ticker import FormatStrFormatter"
     ],
     "language": "python",
     "metadata": {},
     "outputs": [],
     "prompt_number": 145
    },
    {
     "cell_type": "markdown",
     "metadata": {},
     "source": [
      "1. Bestimmung der Zeitkonstante eines RC Gliedes\n",
      "===="
     ]
    },
    {
     "cell_type": "code",
     "collapsed": false,
     "input": [
      "## Werteeingabe\n",
      "## Widerst\u00e4nde, Kondensatoren, Frequenz, experimentell gemessene Halbwertszeit\n",
      "R = np.array([1E3, 1E4, 1E3])\n",
      "C = np.array([470E-9, 4.7E-9, 47E-9])\n",
      "f = np.array([150.00, 640.00, 640.00])\n",
      "T_halbwert_exp = np.array([0.34E-3, 0.03E-3, 0.03E-3])\n",
      "\n",
      "##Fehler der Werte\n",
      "R_err = R*0.05\n",
      "C_err = C*0.1\n",
      "T_halbwert_exp_err = T_halbwert_exp/10\n",
      "\n",
      "## Arrays der Werte\n",
      "R = unp.uarray(R, R_err)\n",
      "C = unp.uarray(C, C_err)\n",
      "T_halbwert_exp = unp.uarray(T_halbwert_exp, T_halbwert_exp_err)\n",
      "\n",
      "## Berechnung der Zeitkonstane: T_halbwert_exp/ln(2) = tau\n",
      "tau_exp = T_halbwert_exp / unp.log(2)\n",
      "\n",
      "## Theoretische Werte f\u00fcr tau:\n",
      "tau_theo = R*C\n",
      "\n",
      "## Ergebnisse\n",
      "print(\"C\\t\\tR\\t\\t\\tf\\ttau_exp\\t\\t\\ttau_theo\")\n",
      "for i in [0,1,2]:\n",
      "    print(C[i], R[i], f[i], tau_exp[i], tau_theo[i], sep=\"\\t\")\n"
     ],
     "language": "python",
     "metadata": {},
     "outputs": [
      {
       "output_type": "stream",
       "stream": "stdout",
       "text": [
        "C\t\tR\t\t\tf\ttau_exp\t\t\ttau_theo\n",
        "(4.7+/-0.5)e-07\t(1.00+/-0.05)e+03\t150.0\t0.00049+/-0.00005\t0.00047+/-0.00005\n",
        "(4.7+/-0.5)e-09\t(1.00+/-0.05)e+04\t640.0\t(4.3+/-0.4)e-05\t(4.7+/-0.5)e-05\n",
        "(4.7+/-0.5)e-08\t(1.00+/-0.05)e+03\t640.0\t(4.3+/-0.4)e-05\t(4.7+/-0.5)e-05\n"
       ]
      }
     ],
     "prompt_number": 27
    },
    {
     "cell_type": "markdown",
     "metadata": {},
     "source": [
      "3. Frequenz und Phasenganz eines RC Gliedes\n",
      "==="
     ]
    },
    {
     "cell_type": "code",
     "collapsed": false,
     "input": [
      "## Messwerte\n",
      "f = np.array([1.E3, 2.E3, 3.E3, 4.E3, 5.E3, 6.E3, 7.E3, 8.E3, 9.E3, 10.E3])\n",
      "dt = np.array([0.20E-3, 0.08E-3, 0.05E-3, 30.0E-6, 22.0e-6, 15.0e-6, 11.6e-6, 9.2e-6, 6.4e-6, 5.6e-6])\n",
      "## Fehler delta t\n",
      "dt_err = np.array([2e-5, 2e-5, 2e-5, 2e-7, 2e-7, 2e-7, 2e-7, 2e-7,2e-7, 2e-7])\n",
      "\n",
      "dt = unp.uarray(dt, dt_err)\n",
      "\n",
      "## phase\n",
      "phi = 360 * f * dt\n",
      "\n",
      "phi_test = main.polynom_fit(f, unp.nominal_values(phi), deg=5)\n",
      "\n",
      "## plotten der phase \u00fcber frequenz, linlog\n",
      "plot_margin = 0.1 ## faktor um wei\u00dfen Rand zu vergr\u00f6\u00dfern\n",
      "fig = plt.figure()\n",
      "ax = fig.add_subplot(111)\n",
      "ax.set_xscale('log')\n",
      "ax.errorbar(f, unp.nominal_values(phi), yerr=unp.std_devs(phi), fmt='r.', label='Messdaten')\n",
      "ax.set_xlim(left = np.min(f) * (1-plot_margin), right = np.max(f)*(1+plot_margin))\n",
      "ax.plot(f, phi_test[0], 'b--', label='Interpolation')\n",
      "ax.legend()"
     ],
     "language": "python",
     "metadata": {},
     "outputs": [
      {
       "metadata": {},
       "output_type": "pyout",
       "prompt_number": 157,
       "text": [
        "<matplotlib.legend.Legend at 0x7f5dbe617c18>"
       ]
      },
      {
       "metadata": {},
       "output_type": "display_data",
       "png": "[encoded data removed]",
       "text": [
        "<matplotlib.figure.Figure at 0x7f5dbe53c470>"
       ]
      }
     ],
     "prompt_number": 157
    },
    {
     "cell_type": "code",
     "collapsed": false,
     "input": [
      "ax.xaxis.set_ticklabels?"
     ],
     "language": "python",
     "metadata": {},
     "outputs": [],
     "prompt_number": 153
    },
    {
     "cell_type": "code",
     "collapsed": false,
     "input": [],
     "language": "python",
     "metadata": {},
     "outputs": [],
     "prompt_number": 132
    },
    {
     "cell_type": "code",
     "collapsed": false,
     "input": [],
     "language": "python",
     "metadata": {},
     "outputs": []
    }
   ],
   "metadata": {}
  }
 ]
}