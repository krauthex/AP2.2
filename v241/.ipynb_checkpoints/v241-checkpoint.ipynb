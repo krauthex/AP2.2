{
 "metadata": {
  "name": "",
<<<<<<< HEAD
  "signature": "sha256:f94a7d9eba721f145e415edf46d435cdf3d31835bdec65cada4e017bacef5ab3"
=======
  "signature": "sha256:21def149e545bfc8d46152c8259375718cbf6af7027b86f1de99fabd32453758"
>>>>>>> 27481dfd5c352b10c688eacbd8c1aeeb4bd426d7
 },
 "nbformat": 3,
 "nbformat_minor": 0,
 "worksheets": [
  {
   "cells": [
    {
     "cell_type": "markdown",
     "metadata": {},
     "source": [
      "Ipython3 Notebook for experiment nr. 241\n",
      "================\n",
      "\n",
      "it is assumend, that this notebook is in the same directory as the module for this experiment.\n",
      "\n",
      "change the filenames and paths according to your set up"
     ]
    },
    {
     "cell_type": "code",
     "collapsed": false,
     "input": [
      "## using inline plots\n",
      "%matplotlib inline\n",
      "\n",
      "## importing the necessary modules\n",
      "import numpy as np\n",
      "import matplotlib.pyplot as plt\n",
      "import pylab as py\n",
      "import ap22_module as main\n",
      "import uncertainties as unc\n",
      "import uncertainties.unumpy as unp\n",
      "from scipy.optimize import curve_fit\n",
      "from matplotlib.ticker import FormatStrFormatter"
     ],
     "language": "python",
     "metadata": {},
     "outputs": [],
<<<<<<< HEAD
     "prompt_number": 43
=======
     "prompt_number": 145
>>>>>>> 27481dfd5c352b10c688eacbd8c1aeeb4bd426d7
    },
    {
     "cell_type": "markdown",
     "metadata": {},
     "source": [
      "1. Bestimmung der Zeitkonstante eines RC Gliedes\n",
      "===="
     ]
    },
    {
     "cell_type": "code",
     "collapsed": false,
     "input": [
      "## Werteeingabe\n",
      "## Widerst\u00e4nde, Kondensatoren, Frequenz, experimentell gemessene Halbwertszeit\n",
      "R = np.array([1E3, 1E4, 1E3])\n",
      "C = np.array([470E-9, 4.7E-9, 47E-9])\n",
      "f = np.array([150.00, 640.00, 640.00])\n",
      "T_halbwert_exp = np.array([0.34E-3, 0.03E-3, 0.03E-3])\n",
      "\n",
      "##Fehler der Werte\n",
      "R_err = R*0.05\n",
      "C_err = C*0.1\n",
      "T_halbwert_exp_err = T_halbwert_exp/10\n",
      "\n",
      "## Arrays der Werte\n",
      "R = unp.uarray(R, R_err)\n",
      "C = unp.uarray(C, C_err)\n",
      "T_halbwert_exp = unp.uarray(T_halbwert_exp, T_halbwert_exp_err)\n",
      "\n",
      "## Berechnung der Zeitkonstane: T_halbwert_exp/ln(2) = tau\n",
      "tau_exp = T_halbwert_exp / unp.log(2)\n",
      "\n",
      "## Theoretische Werte f\u00fcr tau:\n",
      "tau_theo = R*C\n",
      "\n",
      "## Ergebnisse\n",
      "print(\"C\\t\\tR\\t\\t\\tf\\ttau_exp\\t\\t\\ttau_theo\")\n",
      "for i in [0,1,2]:\n",
      "    print(C[i], R[i], f[i], tau_exp[i], tau_theo[i], sep=\"\\t\")\n"
     ],
     "language": "python",
     "metadata": {},
     "outputs": [
      {
       "output_type": "stream",
       "stream": "stdout",
       "text": [
        "C\t\tR\t\t\tf\ttau_exp\t\t\ttau_theo\n",
        "(4.7+/-0.5)e-07\t(1.00+/-0.05)e+03\t150.0\t0.00049+/-0.00005\t0.00047+/-0.00005\n",
        "(4.7+/-0.5)e-09\t(1.00+/-0.05)e+04\t640.0\t(4.3+/-0.4)e-05\t(4.7+/-0.5)e-05\n",
        "(4.7+/-0.5)e-08\t(1.00+/-0.05)e+03\t640.0\t(4.3+/-0.4)e-05\t(4.7+/-0.5)e-05\n"
       ]
      }
     ],
<<<<<<< HEAD
     "prompt_number": 44
=======
     "prompt_number": 27
>>>>>>> 27481dfd5c352b10c688eacbd8c1aeeb4bd426d7
    },
    {
     "cell_type": "markdown",
     "metadata": {},
     "source": [
      "3. Frequenz und Phasenganz eines RC Gliedes\n",
      "==="
     ]
    },
    {
     "cell_type": "code",
     "collapsed": false,
     "input": [
      "## Messwerte\n",
      "f = np.array([1.E3, 2.E3, 3.E3, 4.E3, 5.E3, 6.E3, 7.E3, 8.E3, 9.E3, 10.E3])\n",
      "dt = np.array([0.20E-3, 0.08E-3, 0.05E-3, 30.0E-6, 22.0e-6, 15.0e-6, 11.6e-6, 9.2e-6, 6.4e-6, 5.6e-6])\n",
      "## Fehler delta t\n",
      "dt_err = np.array([2e-5, 2e-5, 2e-5, 2e-7, 2e-7, 2e-7, 2e-7, 2e-7,2e-7, 2e-7])\n",
      "\n",
      "dt = unp.uarray(dt, dt_err)\n",
      "\n",
      "## phase\n",
      "phi = 360 * f * dt\n",
      "\n",
      "phi_test = main.polynom_fit(f, unp.nominal_values(phi), deg=5)\n",
      "\n",
      "## plotten der phase \u00fcber frequenz, linlog\n",
      "plot_margin = 0.1 ## faktor um wei\u00dfen Rand zu vergr\u00f6\u00dfern\n",
      "fig = plt.figure()\n",
      "ax = fig.add_subplot(111)\n",
      "ax.set_xscale('log')\n",
      "ax.errorbar(f, unp.nominal_values(phi), yerr=unp.std_devs(phi), fmt='r.', label='Messdaten')\n",
      "ax.set_xlim(left = np.min(f) * (1-plot_margin), right = np.max(f)*(1+plot_margin))\n",
<<<<<<< HEAD
      "ax.plot(f, phi_test[0], 'k--', label='Interpolation')\n",
=======
      "ax.plot(f, phi_test[0], 'b--', label='Interpolation')\n",
>>>>>>> 27481dfd5c352b10c688eacbd8c1aeeb4bd426d7
      "ax.legend()"
     ],
     "language": "python",
     "metadata": {},
     "outputs": [
      {
       "metadata": {},
       "output_type": "pyout",
<<<<<<< HEAD
       "prompt_number": 45,
       "text": [
        "<matplotlib.legend.Legend at 0x7fdaaceddf98>"
=======
       "prompt_number": 157,
       "text": [
        "<matplotlib.legend.Legend at 0x7f5dbe617c18>"
>>>>>>> 27481dfd5c352b10c688eacbd8c1aeeb4bd426d7
       ]
      },
      {
       "metadata": {},
       "output_type": "display_data",
<<<<<<< HEAD
       "png": "iVBORw0KGgoAAAANSUhEUgAAAWwAAAEFCAYAAADHZN0rAAAABHNCSVQICAgIfAhkiAAAAAlwSFlz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\n",
       "text": [
        "<matplotlib.figure.Figure at 0x7fdaace618d0>"
       ]
      }
     ],
     "prompt_number": 45
    },
    {
     "cell_type": "markdown",
     "metadata": {},
     "source": [
      "4. Frequenzgang eines Serienschwingkreises\n",
      "==="
     ]
=======
       "png": "iVBORw0KGgoAAAANSUhEUgAAAWwAAAEFCAYAAADHZN0rAAAABHNCSVQICAgIfAhkiAAAAAlwSFlz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\nkFDCFhEJCSVsEZGQ+P/60O57RByqfQAAAABJRU5ErkJggg==\n",
       "text": [
        "<matplotlib.figure.Figure at 0x7f5dbe53c470>"
       ]
      }
     ],
     "prompt_number": 157
>>>>>>> 27481dfd5c352b10c688eacbd8c1aeeb4bd426d7
    },
    {
     "cell_type": "code",
     "collapsed": false,
     "input": [
<<<<<<< HEAD
      "## Werteeingabe\n",
      "## Widerst\u00e4nde, Kondensatoren, Resonanzfrequenz, Bandbreite, Aus- und Eingangsspannung [Vrms]\n",
      "R = np.array([1E3, 220, 47])\n",
      "C = np.array([47E-9])\n",
      "fr = np.array([3.85E3, 3.68E3, 3.65E3])\n",
      "df = np.array([4.86e3, 1.29e3, 0.55e3])\n",
      "Ua = np.array([0.95, 0.76, 0.34])\n",
      "Ue = np.array([0.98, 0.96, 0.93])\n",
      "\n",
      "##Fehler der Werte\n",
      "R_err = R*0.05\n",
      "C_err = C*0.1\n",
      "fr_err = 0.1E3 * np.ones(np.shape(fr))\n",
      "df_err = 0.1E3 * np.ones(np.shape(df))\n",
      "Ua_err = 0.03 * np.ones(np.shape(Ua))\n",
      "\n",
      "## Arrays der Werte\n",
      "R = unp.uarray(R, R_err)\n",
      "C = unp.uarray(C, C_err)\n",
      "fr = unp.uarray(fr, fr_err)\n",
      "df = unp.uarray(df, df_err)\n",
      "Ua = unp.uarray(Ua, Ua_err)\n",
      "\n",
      "## Berechnung von L aus der Resonanzfrequenz: wr = (LC)**(-.5), wr = 2*pi*fr\n",
      "L = 1/((fr*2*np.pi)**2 * C)\n",
      "L = np.mean(L)\n",
      "L1 = L\n",
      "print(\"Induktivit\u00e4t L:\\n\", L1)\n",
      "\n",
      "## Berechnug der Gesamtwiderstandes R+Rv mittels dw = (R+Rv) / L\n",
      "R_ges = df * 2 * np.pi * L\n",
      "print(\"\\nGesamtwiderstand R+Rv:\\n\", R_ges)\n",
      "\n",
      "## Berechnung des Verlustwiderstandes Rv bei Resonanzfrequenz: Ua = (R / (R+Rv)) * Ue\n",
      "Rv = R*Ue/Ua - R\n",
      "print(\"\\nVerlustwiderstand Rv:\\n\", Rv)\n",
      "\n",
      "## Vergleich der Widerstandswerte:\n",
      "print(\"\\nVergleich der Widerstandswerte:\\naus 3dB Bandbreite \\tbei Resonanzfrequenz\")\n",
      "for i in range(len(Rv)):\n",
      "    print((R_ges-R)[i], Rv[i], sep='\\t\\t')"
     ],
     "language": "python",
     "metadata": {},
     "outputs": [
      {
       "output_type": "stream",
       "stream": "stdout",
       "text": [
        "Induktivit\u00e4t L:\n",
        " 0.039+/-0.004\n",
        "\n",
        "Gesamtwiderstand R+Rv:\n",
        " [1186.9450378240022+/-126.68160645490896\n",
        " 315.05331250884007+/-41.050108752489855\n",
        " 134.3250557208233+/-28.184450650628435]\n",
        "\n",
        "Verlustwiderstand Rv:\n",
        " [31.57894736842104+/-32.61442014380676\n",
        " 57.89473684210526+/-11.345046044456847\n",
        " 81.55882352941177+/-12.054165616378912]\n",
        "\n",
        "Vergleich der Widerstandswerte:\n",
        "aus 3dB Bandbreite \tbei Resonanzfrequenz\n",
        "(1.9+/-1.4)e+02\t\t31.6+/-32.6\n",
        "(1.0+/-0.4)e+02\t\t57.9+/-11.3\n",
        "87.3+/-28.3\t\t81.6+/-12.1\n"
       ]
      }
     ],
     "prompt_number": 46
    },
    {
     "cell_type": "markdown",
     "metadata": {},
     "source": [
      "5. Bestimmung der D\u00e4mpfungskonstanten eines freien, ged\u00e4mpften Schwingkreises\n",
      "==="
     ]
    },
    {
     "cell_type": "code",
     "collapsed": false,
     "input": [
      "##Werteingabe\n",
      "##Amplitude, Schwingungsdauer, Widerstand, Kondensator\n",
      "A = np.array([2.02, 1.36, 0.89, 0.66, 0.52])\n",
      "T = unc.ufloat(0.268e-3, 0.05e-3)\n",
      "R = unc.ufloat(47, 47*0.05)\n",
      "C = unc.ufloat(47e-9, 47e-9*0.1)\n",
      "\n",
      "##Fehler\n",
      "A_err = 0.15 * np.ones(np.shape(A))\n",
      "\n",
      "##Arrays\n",
      "A = unp.uarray(A, A_err)\n",
      "\n",
      "##log. Dekrement: D = log(Ai / Ai+1) = d*T\n",
      "D = np.array([unp.log(A[i]/A[i+1]) for i in range(len(A)-1)])\n",
      "\n",
      "##D\u00e4mpungskonst:\n",
      "d = D/T\n",
      "\n",
      "##Induktivit\u00e4t\n",
      "L = 1./((2*np.pi/T)**2+d**2)/C\n",
      "L = np.mean(L)\n",
      "L2 = L\n",
      "\n",
      "##Gesamtwiderstand\n",
      "R_ges_dekr = d*2*L\n",
      "\n",
      "print(D,\"\\n\\n\", d,'\\n\\n', L2,'\\n\\n', R_ges_dekr)"
     ],
     "language": "python",
     "metadata": {},
     "outputs": [
      {
       "output_type": "stream",
       "stream": "stdout",
       "text": [
        "[array(0.39561281166515266+/-0.1329622415028311, dtype=object)\n",
        " array(0.42401851600391227+/-0.2014206959154245, dtype=object)\n",
        " array(0.29898162770571424+/-0.2829459257835216, dtype=object)\n",
        " array(0.23841102344499815+/-0.36723691499300704, dtype=object)] \n",
        "\n",
        " [1476.1672077057935+/-567.4418964632911\n",
        " 1582.1586418056427+/-807.4575280432115\n",
        " 1115.6030884541576+/-1076.0887557539174\n",
        " 889.5933710634259+/-1380.3014641707182] \n",
        "\n",
        " 0.039+/-0.015 \n",
        "\n",
        " [113.93395911733636+/-45.23747354862497\n",
        " 122.11462026228091+/-63.47977847758791\n",
        " 86.10479626400343+/-83.50163324398454\n",
        " 68.66084969284474+/-106.7165989221185]\n"
       ]
      }
     ],
     "prompt_number": 47
    },
    {
     "cell_type": "markdown",
     "metadata": {},
     "source": [
      "6. Resonanz\u00fcberh\u00f6hung\n",
      "==="
     ]
    },
    {
     "cell_type": "code",
     "collapsed": false,
     "input": [
      "##Werteeingabe\n",
      "##Induktivit\u00e4t (Mittelwert der vorher ermittelten Werte), Widerstand, Kondensator, Resonanzfrequenzen fR, fL, fC\n",
      "L = np.mean([L1, L2])\n",
      "R = unc.ufloat(220, 220*0.05)\n",
      "C = unc.ufloat(47e-9, 47e-9*0.1)\n",
      "f = unp.uarray([3.7e3, 3.8e3, 3.6e3], 0.02e3)\n",
      "\n",
      "##D\u00e4mpfungskonstante\n",
      "d = R/2/L\n",
      "\n",
      "##(theo)Resonanzfrequenzen:\n",
      "wR = unp.sqrt(1/(L*C))\n",
      "wC = unp.sqrt(wR**2 - 2*d**2)\n",
      "wL = unp.sqrt(wR**2 + 2*d**2)\n",
      "w = np.array([wR, wC, wL])\n",
      "\n",
      "##Vergleich:\n",
      "print(\"Exp:\\t\\t\\tTheo.\")\n",
      "for i in range(len(f)):\n",
      "    print(f[i]*2*np.pi, w[i], sep='\\t')"
     ],
     "language": "python",
     "metadata": {},
     "outputs": [
      {
       "output_type": "stream",
       "stream": "stdout",
       "text": [
        "Exp:\t\t\tTheo.\n",
        "(2.325+/-0.013)e+04\t(2.34+/-0.26)e+04\n",
        "(2.388+/-0.013)e+04\t(2.31+/-0.25)e+04\n",
        "(2.262+/-0.013)e+04\t(2.38+/-0.27)e+04\n"
       ]
      }
     ],
     "prompt_number": 52
    },
    {
     "cell_type": "markdown",
     "metadata": {},
     "source": [
      "7. Bandsperre\n",
      "==="
     ]
=======
      "ax.xaxis.set_ticklabels?"
     ],
     "language": "python",
     "metadata": {},
     "outputs": [],
     "prompt_number": 153
>>>>>>> 27481dfd5c352b10c688eacbd8c1aeeb4bd426d7
    },
    {
     "cell_type": "code",
     "collapsed": false,
<<<<<<< HEAD
     "input": [
      "##Werteeingabe\n",
      "##Induktivit\u00e4t, Widerstand, Kondensator, Resonanzfrequenz fR\n",
      "L = np.mean([L1, L2])\n",
      "R = unc.ufloat(1e3, 1e3*0.05)\n",
      "C = unc.ufloat(47e-9, 47e-9*0.1)\n",
      "f = unc.ufloat(3.73e3, 0.05e3)\n",
      "\n",
      "##Resonanzfrequenz\n",
      "wR = unp.sqrt(1/(L*C))\n",
      "\n",
      "##Vergleich\n",
      "print(\"Exp:\\t\\t\\tTheo:\")\n",
      "print(f*2*np.pi, wR, sep='\\t')"
     ],
     "language": "python",
     "metadata": {},
     "outputs": [
      {
       "output_type": "stream",
       "stream": "stdout",
       "text": [
        "Exp:\t\t\tTheo:\n",
        "(2.344+/-0.031)e+04\t(2.34+/-0.26)e+04\n"
       ]
      }
     ],
     "prompt_number": 55
    },
    {
     "cell_type": "markdown",
     "metadata": {},
     "source": [
      "8. Signalformung\n",
      "==="
     ]
=======
     "input": [],
     "language": "python",
     "metadata": {},
     "outputs": [],
     "prompt_number": 132
>>>>>>> 27481dfd5c352b10c688eacbd8c1aeeb4bd426d7
    },
    {
     "cell_type": "code",
     "collapsed": false,
     "input": [],
     "language": "python",
     "metadata": {},
     "outputs": []
    }
   ],
   "metadata": {}
  }
 ]
}