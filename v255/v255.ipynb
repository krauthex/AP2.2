{
 "metadata": {
  "name": "",
  "signature": "sha256:003476a1e74b3063e3b811e76b415b724e38551edbbd4a91a5a10d75d50e468b"
 },
 "nbformat": 3,
 "nbformat_minor": 0,
 "worksheets": [
  {
   "cells": [
    {
     "cell_type": "markdown",
     "metadata": {},
     "source": [
      "Ipython3 Notebook for experiment nr. 255\n",
      "================\n",
      "\n",
      "it is assumend, that this notebook is in the same directory as the module for this experiment.\n",
      "\n",
      "change the filenames and paths according to your set up"
     ]
    },
    {
     "cell_type": "code",
     "collapsed": false,
     "input": [
      "## using inline plots, only use for testing, turn off later. (it somehow affects the size of the saved plots)\n",
      "%matplotlib inline\n",
      "\n",
      "## importing the necessary modules\n",
      "import numpy as np\n",
      "import matplotlib.pyplot as plt\n",
      "import pylab as py\n",
      "import ap22_module as main"
     ],
     "language": "python",
     "metadata": {},
     "outputs": [],
     "prompt_number": 113
    },
    {
     "cell_type": "code",
     "collapsed": false,
     "input": [
      "## Interpolation des kurzwelligen Ende's des Diagrammes\n",
      "\n",
      "winkel = np.array([3.0, 3.2, 3.4, 3.6, 3.8, 4.0, 4.2, 4.4, 4.6, 4.8, 5.0])\n",
      "counts = np.array([22.2, 26.2, 23.6, 27.0, 29.8, 26.2, 29.0, 35.6, 36.2, 40.8, 42.6])\n",
      "background_counts = np.mean(counts)\n",
      "#counts_err = np.sqrt(counts)\n"
     ],
     "language": "python",
     "metadata": {},
     "outputs": [],
     "prompt_number": 114
    },
    {
     "cell_type": "code",
     "collapsed": false,
     "input": [
      "winkel_anstieg = np.array([5.2, 5.4, 5.6, 5.8])\n",
      "counts_anstieg = np.array([103.6, 230.4, 314.8, 404.6])\n",
      "counts_err = np.sqrt(counts_anstieg)\n",
      "plt.errorbar(winkel_anstieg, counts_anstieg-background_counts , yerr=counts_err, fmt='r.')\n",
      "\n",
      "y_fitted, popt, pcov = main.lin_reg(winkel_anstieg, counts_anstieg-background_counts, sigma=counts_err)"
     ],
     "language": "python",
     "metadata": {},
     "outputs": [
      {
       "metadata": {},
       "output_type": "display_data",
       "png": "[encoded data removed]",
       "text": [
        "<matplotlib.figure.Figure at 0x7f44dc917278>"
       ]
      }
     ],
     "prompt_number": 115
    },
    {
     "cell_type": "code",
     "collapsed": false,
     "input": [
      "winkel_extra = np.linspace(4.5, 6.5, num=100)\n",
      "counts_fitted = popt[0]*winkel_extra + popt[1]\n",
      "\n",
      "\n",
      "plt.errorbar(winkel_anstieg, counts_anstieg-background_counts,yerr=counts_err, fmt='r.')\n",
      "plt.plot(winkel_extra, counts_fitted, 'y-')"
     ],
     "language": "python",
     "metadata": {},
     "outputs": [
      {
       "metadata": {},
       "output_type": "pyout",
       "prompt_number": 116,
       "text": [
        "[<matplotlib.lines.Line2D at 0x7f44dc3d24a8>]"
       ]
      },
      {
       "metadata": {},
       "output_type": "display_data",
       "png": "[encoded data removed]",
       "text": [
        "<matplotlib.figure.Figure at 0x7f44dc3d2be0>"
       ]
      }
     ],
     "prompt_number": 116
    },
    {
     "cell_type": "code",
     "collapsed": false,
     "input": [
      "\n",
      "## in rad\n",
      "alpha_grenz = winkel_extra[np.abs(counts_fitted).argmin()] * np.pi/180"
     ],
     "language": "python",
     "metadata": {},
     "outputs": [],
     "prompt_number": 117
    },
    {
     "cell_type": "code",
     "collapsed": false,
     "input": [
      "## Bragg'sches Gesetz -> Wellenl\u00e4nge\n",
      "\n",
      "d = 201.4E-12 ## Netzebenenabstand\n",
      "\n",
      "lamb = 2 * d * np.sin(alpha_grenz)\n",
      "print(lamb)"
     ],
     "language": "python",
     "metadata": {},
     "outputs": [
      {
       "output_type": "stream",
       "stream": "stdout",
       "text": [
        "3.54246600181e-11\n"
       ]
      }
     ],
     "prompt_number": 118
    },
    {
     "cell_type": "code",
     "collapsed": false,
     "input": [
      "## planck'sches wirkungsquantum\n",
      "\n",
      "h = lamb * 1.6022E-19 * 35E3 / 2.9979E8\n",
      "print(h)"
     ],
     "language": "python",
     "metadata": {},
     "outputs": [
      {
       "output_type": "stream",
       "stream": "stdout",
       "text": [
        "6.62633396656e-34\n"
       ]
      }
     ],
     "prompt_number": 119
    },
    {
     "cell_type": "code",
     "collapsed": false,
     "input": [
      "## ab wann setzen linien 2ter ordnung ein? -> bragg'sches gesetz\n",
      "\n",
      "alpha_2O = np.arcsin(lamb/d)*180/np.pi\n",
      "print(alpha_2O)"
     ],
     "language": "python",
     "metadata": {},
     "outputs": [
      {
       "output_type": "stream",
       "stream": "stdout",
       "text": [
        "10.1305744075\n"
       ]
      }
     ],
     "prompt_number": 120
    },
    {
     "cell_type": "code",
     "collapsed": false,
     "input": [],
     "language": "python",
     "metadata": {},
     "outputs": [],
     "prompt_number": 120
    }
   ],
   "metadata": {}
  }
 ]
}