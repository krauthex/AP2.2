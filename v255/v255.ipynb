{
 "metadata": {
  "name": "",
  "signature": "sha256:5ed92571dfd8568d7c8f4a29ce62477e663343bd7186eb5144c00b38d5392842"
 },
 "nbformat": 3,
 "nbformat_minor": 0,
 "worksheets": [
  {
   "cells": [
    {
     "cell_type": "markdown",
     "metadata": {},
     "source": [
      "Ipython3 Notebook for experiment nr. 255\n",
      "================\n",
      "\n",
      "it is assumend, that this notebook is in the same directory as the module for this experiment.\n",
      "\n",
      "change the filenames and paths according to your set up"
     ]
    },
    {
     "cell_type": "markdown",
     "metadata": {},
     "source": [
      "PART 1\n",
      "======"
     ]
    },
    {
     "cell_type": "markdown",
     "metadata": {},
     "source": [
      "a)\n",
      "===="
     ]
    },
    {
     "cell_type": "code",
     "collapsed": false,
     "input": [
      "## using inline plots, only use for testing, turn off later. (it somehow affects the size of the saved plots)\n",
      "%matplotlib inline\n",
      "\n",
      "## importing the necessary modules\n",
      "import numpy as np\n",
      "import matplotlib.pyplot as plt\n",
      "import pylab as py\n",
      "import ap22_module as main\n",
      "import uncertainties as unc\n",
      "import uncertainties.unumpy as unp"
     ],
     "language": "python",
     "metadata": {},
     "outputs": [],
     "prompt_number": 48
    },
    {
     "cell_type": "code",
     "collapsed": false,
     "input": [
      "## Interpolation des kurzwelligen Ende's des Diagrammes\n",
      "\n",
      "winkel = np.array([3.0, 3.2, 3.4, 3.6, 3.8, 4.0, 4.2, 4.4, 4.6, 4.8, 5.0])\n",
      "counts = np.array([22.2, 26.2, 23.6, 27.0, 29.8, 26.2, 29.0, 35.6, 36.2, 40.8, 42.6])\n",
      "background_counts = np.mean(counts)\n",
      "background_err = np.std(counts)\n",
      "## background with uncertainties\n",
      "BG = unc.ufloat(background_counts, background_err)"
     ],
     "language": "python",
     "metadata": {},
     "outputs": [],
     "prompt_number": 49
    },
    {
     "cell_type": "code",
     "collapsed": false,
     "input": [
      "## linearer anstieg, mit unsicherheiten\n",
      "winkel_anstieg = np.array([5.2, 5.4, 5.6, 5.8])\n",
      "counts_anstieg = np.array([103.6, 230.4, 314.8, 404.6])\n",
      "counts_err = np.sqrt(counts_anstieg)\n",
      "lin_arr = unp.uarray(counts_anstieg, counts_err)\n",
      "lin_arr_cor = lin_arr - BG ## um hintergrund korrigiert\n",
      "\n",
      "## plotting\n",
      "plt.errorbar(winkel_anstieg, unp.nominal_values(lin_arr_cor), yerr = unp.std_devs(lin_arr_cor), fmt='r.')\n",
      "plt.xlim(5, 6,5)\n",
      "plt.xlabel('Winkel [$\\degree$]')\n",
      "plt.ylabel('Counts (ohne Grundrauschen) [1/s]')\n",
      "plt.title('Plot 1: Linearer Teil des Spektrums am kurzwelligen Ende')"
     ],
     "language": "python",
     "metadata": {},
     "outputs": [
      {
       "metadata": {},
       "output_type": "pyout",
       "prompt_number": 50,
       "text": [
        "<matplotlib.text.Text at 0x7f2fa518fe10>"
       ]
      },
      {
       "metadata": {},
       "output_type": "display_data",
       "png": "[encoded data removed]",
       "text": [
        "<matplotlib.figure.Figure at 0x7f2fa52a8ac8>"
       ]
      }
     ],
     "prompt_number": 50
    },
    {
     "cell_type": "code",
     "collapsed": false,
     "input": [
      "## making the linear fit\n",
      "y_fitted, popt, pcov = main.lin_reg(winkel_anstieg, unp.nominal_values(lin_arr_cor), sigma=unp.std_devs(lin_arr_cor))\n",
      "perr = np.sqrt(np.diag(pcov))\n",
      "popt = unp.uarray(popt, perr)\n",
      "## generating a value sequence for the plot of the linear fit \n",
      "winkel_extra = np.linspace(5, 6, num=100)\n",
      "## linear fit\n",
      "counts_fitted = popt[0]*winkel_extra + popt[1]\n",
      "\n",
      "## plotting\n",
      "plt.xlabel('Winkel [$\\degree$]')\n",
      "plt.ylabel('Counts (ohne Grundrauschen) [1/s]')\n",
      "plt.title('Plot 1: Linearer Teil mit Fit')\n",
      "plt.errorbar(winkel_anstieg, unp.nominal_values(lin_arr_cor), yerr = unp.std_devs(lin_arr_cor), fmt='r.')\n",
      "plt.plot(winkel_extra, unp.nominal_values(counts_fitted),'k--')"
     ],
     "language": "python",
     "metadata": {},
     "outputs": [
      {
       "metadata": {},
       "output_type": "pyout",
       "prompt_number": 51,
       "text": [
        "[<matplotlib.lines.Line2D at 0x7f2fa4fea390>]"
       ]
      },
      {
       "metadata": {},
       "output_type": "display_data",
       "png": "[encoded data removed]",
       "text": [
        "<matplotlib.figure.Figure at 0x7f2fa5116588>"
       ]
      }
     ],
     "prompt_number": 51
    },
    {
     "cell_type": "code",
     "collapsed": false,
     "input": [
      "## grenzwinkel in rad. der winkel, bei dem die counts = 0 sind.\n",
      "alpha_grenz = (-popt[1]/popt[0])*np.pi/180\n",
      "print(alpha_grenz)"
     ],
     "language": "python",
     "metadata": {},
     "outputs": [
      {
       "output_type": "stream",
       "stream": "stdout",
       "text": [
        "0.088+/-0.009\n"
       ]
      }
     ],
     "prompt_number": 52
    },
    {
     "cell_type": "code",
     "collapsed": false,
     "input": [
      "## Bragg'sches Gesetz -> Wellenl\u00e4nge\n",
      "\n",
      "d = 201.4E-12 ## Netzebenenabstand\n",
      "\n",
      "lamb = 2 * d * unp.sin(alpha_grenz) ## Grenzwellenl\u00e4nge\n",
      "print(lamb)"
     ],
     "language": "python",
     "metadata": {},
     "outputs": [
      {
       "output_type": "stream",
       "stream": "stdout",
       "text": [
        "(3.5+/-0.4)e-11\n"
       ]
      }
     ],
     "prompt_number": 53
    },
    {
     "cell_type": "code",
     "collapsed": false,
     "input": [
      "## planck'sches wirkungsquantum\n",
      "\n",
      "h = lamb * 1.6022E-19 * 35.0E3 / 2.9979E8\n",
      "print(h)"
     ],
     "language": "python",
     "metadata": {},
     "outputs": [
      {
       "output_type": "stream",
       "stream": "stdout",
       "text": [
        "(6.6+/-0.7)e-34\n"
       ]
      }
     ],
     "prompt_number": 54
    },
    {
     "cell_type": "code",
     "collapsed": false,
     "input": [
      "## ab wann setzen linien 2ter ordnung ein (winkel)? -> bragg'sches gesetz\n",
      "\n",
      "alpha_2O = unp.arcsin(lamb/d)*180/np.pi\n",
      "print(alpha_2O)"
     ],
     "language": "python",
     "metadata": {},
     "outputs": [
      {
       "output_type": "stream",
       "stream": "stdout",
       "text": [
        "10.1+/-1.0\n"
       ]
      }
     ],
     "prompt_number": 55
    },
    {
     "cell_type": "markdown",
     "metadata": {},
     "source": [
      "b)\n",
      "======"
     ]
    },
    {
     "cell_type": "code",
     "collapsed": false,
     "input": [
      "Kb1_winkel = [8.8,8.9,9,9.1,9.2]\n",
      "Kb1_counts = [530.8, 656.5, 968.4, 1104, 815.1]"
     ],
     "language": "python",
     "metadata": {},
     "outputs": [],
     "prompt_number": 56
    },
    {
     "cell_type": "code",
     "collapsed": false,
     "input": [],
     "language": "python",
     "metadata": {},
     "outputs": [],
     "prompt_number": 56
    },
    {
     "cell_type": "code",
     "collapsed": false,
     "input": [],
     "language": "python",
     "metadata": {},
     "outputs": [],
     "prompt_number": 56
    }
   ],
   "metadata": {}
  }
 ]
}