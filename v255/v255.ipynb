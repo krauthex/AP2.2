{
 "metadata": {
  "name": "",
  "signature": "sha256:838e6ff0b9de323282efead9835f2b1bbaa626f15a10709211c376faaa93de73"
 },
 "nbformat": 3,
 "nbformat_minor": 0,
 "worksheets": [
  {
   "cells": [
    {
     "cell_type": "markdown",
     "metadata": {},
     "source": [
      "Ipython3 Notebook for experiment nr. 255\n",
      "================\n",
      "\n",
      "it is assumend, that this notebook is in the same directory as the module for this experiment.\n",
      "\n",
      "change the filenames and paths according to your set up"
     ]
    },
    {
     "cell_type": "markdown",
     "metadata": {},
     "source": [
      "PART 1\n",
      "======"
     ]
    },
    {
     "cell_type": "markdown",
     "metadata": {},
     "source": [
      "a)\n",
      "===="
     ]
    },
    {
     "cell_type": "code",
     "collapsed": false,
     "input": [
      "## using inline plots, only use for testing, turn off later. (it somehow affects the size of the saved plots)\n",
      "#%matplotlib inline\n",
      "\n",
      "## importing the necessary modules\n",
      "import numpy as np\n",
      "import matplotlib.pyplot as plt\n",
      "import pylab as py\n",
      "import ap22_module as main\n",
      "import uncertainties as unc\n",
      "import uncertainties.unumpy as unp\n",
      "from scipy.optimize import curve_fit"
     ],
     "language": "python",
     "metadata": {},
     "outputs": [],
     "prompt_number": 52
    },
    {
     "cell_type": "code",
     "collapsed": false,
     "input": [
      "## Interpolation des kurzwelligen Ende's des Diagrammes\n",
      "\n",
      "winkel = np.array([3.0, 3.2, 3.4, 3.6, 3.8, 4.0, 4.2, 4.4, 4.6, 4.8, 5.0])\n",
      "counts = np.array([22.2, 26.2, 23.6, 27.0, 29.8, 26.2, 29.0, 35.6, 36.2, 40.8, 42.6])\n",
      "background_counts = np.mean(counts)\n",
      "background_err = np.std(counts)\n",
      "## background with uncertainties\n",
      "BG = unc.ufloat(background_counts, background_err)\n",
      "print(\"Untergrundrauschen:\",BG)"
     ],
     "language": "python",
     "metadata": {},
     "outputs": [
      {
       "output_type": "stream",
       "stream": "stdout",
       "text": [
        "Untergrundrauschen: 30.8+/-6.6\n"
       ]
      }
     ],
     "prompt_number": 53
    },
    {
     "cell_type": "code",
     "collapsed": false,
     "input": [
      "## linearer anstieg, mit unsicherheiten\n",
      "winkel_anstieg = np.array([5.2, 5.4, 5.6, 5.8])\n",
      "counts_anstieg = np.array([103.6, 230.4, 314.8, 404.6])\n",
      "counts_err = np.sqrt(counts_anstieg)\n",
      "lin_arr = unp.uarray(counts_anstieg, counts_err)\n",
      "lin_arr_cor = lin_arr - BG ## um hintergrund korrigiert\n",
      "\n",
      "## plotting\n",
      "plt.errorbar(winkel_anstieg, unp.nominal_values(lin_arr_cor), yerr = unp.std_devs(lin_arr_cor), fmt='r+', label='Messwerte')\n",
      "plt.xlim(5, 6,5)\n",
      "plt.xlabel('Winkel [$\\degree$]')\n",
      "plt.ylabel('Counts (ohne Grundrauschen) [1/s]')\n",
      "plt.title('Plot 1: Linearer Teil des Spektrums am kurzwelligen Ende')\n",
      "plt.legend(loc=2)\n",
      "plt.savefig('.data/plot1_lineares_spektrum.pdf', format='pdf', dpi=100)\n",
      "plt.close()"
     ],
     "language": "python",
     "metadata": {},
     "outputs": [],
     "prompt_number": 54
    },
    {
     "cell_type": "code",
     "collapsed": false,
     "input": [
      "## making the linear fit\n",
      "y_fitted, popt, pcov = main.lin_reg(winkel_anstieg, unp.nominal_values(lin_arr_cor), sigma=unp.std_devs(lin_arr_cor))\n",
      "perr = np.sqrt(np.diag(pcov))\n",
      "popt = unp.uarray(popt, perr)\n",
      "## generating a value sequence for the plot of the linear fit \n",
      "winkel_extra = np.linspace(5, 6, num=100)\n",
      "## linear fit\n",
      "counts_fitted = popt[0]*winkel_extra + popt[1]\n",
      "print(\"k, d:\", popt[0], popt[1])\n",
      "\n",
      "## plotting\n",
      "plt.xlabel('Winkel [$\\degree$]')\n",
      "plt.ylabel('Counts (ohne Grundrauschen) [1/s]')\n",
      "plt.title('Plot 2: Linearer Teil mit Fit')\n",
      "plt.errorbar(winkel_anstieg, unp.nominal_values(lin_arr_cor), yerr = unp.std_devs(lin_arr_cor), fmt='r+', label='Messwerte')\n",
      "plt.plot(winkel_extra, unp.nominal_values(counts_fitted),'k--', label='Linearer Fit')\n",
      "plt.legend(loc=0)\n",
      "plt.text(5.05, 300, \"Geraden-Parameter:\")\n",
      "plt.text(5.05, 250, \"$k = 508.6$\")\n",
      "plt.text(5.05, 200, \"$d = -2.6*10^3$\")\n",
      "plt.savefig('.data/plot2_lin_fit.pdf', format='pdf', dpi=100)\n",
      "plt.close()"
     ],
     "language": "python",
     "metadata": {},
     "outputs": [
      {
       "output_type": "stream",
       "stream": "stdout",
       "text": [
        "k, d: 508.6+/-34.9 (-2.57+/-0.19)e+03\n"
       ]
      }
     ],
     "prompt_number": 55
    },
    {
     "cell_type": "code",
     "collapsed": false,
     "input": [
      "## grenzwinkel in rad. der winkel, bei dem die counts = 0 sind.\n",
      "alpha_grenz = (-popt[1]/popt[0])*np.pi/180\n",
      "print(\"Grenzwinkel:\", alpha_grenz, \"[rad]\")"
     ],
     "language": "python",
     "metadata": {},
     "outputs": [
      {
       "output_type": "stream",
       "stream": "stdout",
       "text": [
        "Grenzwinkel: 0.088+/-0.009 [rad]\n"
       ]
      }
     ],
     "prompt_number": 56
    },
    {
     "cell_type": "code",
     "collapsed": false,
     "input": [
      "## Bragg'sches Gesetz -> Wellenl\u00e4nge\n",
      "\n",
      "d = 201.4E-12 ## Netzebenenabstand\n",
      "\n",
      "lamb = 2 * d * unp.sin(alpha_grenz) ## Grenzwellenl\u00e4nge\n",
      "print(\"Grenzwellenl\u00e4nge:\", lamb)"
     ],
     "language": "python",
     "metadata": {},
     "outputs": [
      {
       "output_type": "stream",
       "stream": "stdout",
       "text": [
        "Grenzwellenl\u00e4nge: (3.5+/-0.4)e-11\n"
       ]
      }
     ],
     "prompt_number": 57
    },
    {
     "cell_type": "code",
     "collapsed": false,
     "input": [
      "## planck'sches wirkungsquantum\n",
      "\n",
      "h = lamb * 1.6022E-19 * 35.0E3 / 2.9979E8\n",
      "print(\"Planck'sches Wirkungsquantum:\",h)"
     ],
     "language": "python",
     "metadata": {},
     "outputs": [
      {
       "output_type": "stream",
       "stream": "stdout",
       "text": [
        "Planck'sches Wirkungsquantum: (6.6+/-0.7)e-34\n"
       ]
      }
     ],
     "prompt_number": 58
    },
    {
     "cell_type": "code",
     "collapsed": false,
     "input": [
      "## ab wann setzen linien 2ter ordnung ein (winkel)? -> bragg'sches gesetz\n",
      "\n",
      "alpha_2O = unp.arcsin(lamb/d)*180/np.pi\n",
      "print(\"Ab wann setzen die Linien 2ter Ordung ein?\", alpha_2O)"
     ],
     "language": "python",
     "metadata": {},
     "outputs": [
      {
       "output_type": "stream",
       "stream": "stdout",
       "text": [
        "Ab wann setzen die Linien 2ter Ordung ein? 10.1+/-1.0\n"
       ]
      }
     ],
     "prompt_number": 59
    },
    {
     "cell_type": "markdown",
     "metadata": {},
     "source": [
      "b)\n",
      "======"
     ]
    },
    {
     "cell_type": "markdown",
     "metadata": {},
     "source": [
      "$K_{\\beta}$ erster Ordnung"
     ]
    },
    {
     "cell_type": "code",
     "collapsed": false,
     "input": [
      "## defining a gaussion curve for the fit\n",
      "def gaussian(x, a, x0, sigma):\n",
      "    return a*np.exp(-(x-x0)**2/(2*sigma**2))"
     ],
     "language": "python",
     "metadata": {},
     "outputs": [],
     "prompt_number": 60
    },
    {
     "cell_type": "code",
     "collapsed": false,
     "input": [
      "## K beta lines first order\n",
      "Kb1_winkel = np.array([8.8, 8.9, 9, 9.1, 9.2])\n",
      "Kb1_counts = np.array([530.8, 656.5, 968.4, 1104, 815.1])\n",
      "Kb1_counts_err = np.sqrt(Kb1_counts)\n",
      "Kb1_corr = unp.uarray(Kb1_counts, Kb1_counts_err) - BG\n",
      "\n",
      "x = np.linspace(8.5, 9.5, num=100)"
     ],
     "language": "python",
     "metadata": {},
     "outputs": [],
     "prompt_number": 61
    },
    {
     "cell_type": "code",
     "collapsed": false,
     "input": [
      "## predefined starting values\n",
      "mean = np.mean(Kb1_winkel)\n",
      "sigma = np.std(Kb1_winkel)\n",
      "\n",
      "\n",
      "## computing the optimized curve parameters\n",
      "popt, pcov = curve_fit(gaussian, Kb1_winkel, unp.nominal_values(Kb1_corr), p0=[np.max(unp.nominal_values(Kb1_corr)), mean, sigma], \n",
      "                       sigma=unp.std_devs(Kb1_corr))\n",
      "\n",
      "## plotting\n",
      "plt.xlabel('Winkel [$\\degree$]')\n",
      "plt.ylabel('Counts (ohne Grundrauschen) [1/s]')\n",
      "plt.title('Plot 3: $K_{\\\\beta}$ - Linie 1.O. mit Gauss-Fit')\n",
      "plt.errorbar(Kb1_winkel, unp.nominal_values(Kb1_corr), yerr=unp.std_devs(Kb1_corr), fmt='r+',label='Messwerte')\n",
      "plt.plot(x, gaussian(x, *popt), 'k--', label='Gauss-Fit')\n",
      "plt.legend()\n",
      "plt.text(8.5, 1000, \"Gauss-Parameter:\")\n",
      "plt.text(8.5, 900, \"$a = 984.91$\")\n",
      "plt.text(8.5, 800, \"$\\mu = 9.07$\")\n",
      "plt.text(8.5, 700, \"$\\sigma = 0.22$\")\n",
      "plt.savefig('.data/plot3_kb1.pdf', format='pdf', dpi=100)\n",
      "plt.close()\n",
      "\n",
      "parameter = unp.uarray(popt, np.sqrt(np.diag(pcov)))\n",
      "print(\"Gauss-Parameter: a, x0, sigma:\", parameter)"
     ],
     "language": "python",
     "metadata": {},
     "outputs": [
      {
       "output_type": "stream",
       "stream": "stdout",
       "text": [
        "Gauss-Parameter: a, x0, sigma: [984.9056230584049+/-83.38545664505534\n",
        " 9.072839749853815+/-0.030554455624212804\n",
        " 0.2157129290628907+/-0.04006034329615231]\n"
       ]
      }
     ],
     "prompt_number": 62
    },
    {
     "cell_type": "code",
     "collapsed": false,
     "input": [
      "## Bragg'sches Gesetz -> Wellenl\u00e4nge\n",
      "d = 201.4E-12 ## Netzebenenabstand\n",
      "\n",
      "lamb_b1 = 2 * d * unp.sin(Kb1_winkel[Kb1_corr.argmax()] * np.pi / 180) ## Wellenl\u00e4nge\n",
      "print(\"Wellenl\u00e4nge K-beta 1er Ordnung:\", lamb_b1)"
     ],
     "language": "python",
     "metadata": {},
     "outputs": [
      {
       "output_type": "stream",
       "stream": "stdout",
       "text": [
        "Wellenl\u00e4nge K-beta 1er Ordnung: 6.370606949010596e-11\n"
       ]
      }
     ],
     "prompt_number": 63
    },
    {
     "cell_type": "markdown",
     "metadata": {},
     "source": [
      "$K_{\\alpha}$ erster Ordnung"
     ]
    },
    {
     "cell_type": "code",
     "collapsed": false,
     "input": [
      "## K alpha lines first order\n",
      "Ka1_winkel = np.array([10.1, 10.2, 10.3, 10.4, 10.5])\n",
      "Ka1_counts = np.array([1535.8, 2489.1, 2058.8, 860.1, 379.3])\n",
      "Ka1_counts_err = np.sqrt(Ka1_counts)\n",
      "Ka1_corr = unp.uarray(Ka1_counts, Ka1_counts_err) - BG\n",
      "\n",
      "x = np.linspace(9.5, 11, num=100)"
     ],
     "language": "python",
     "metadata": {},
     "outputs": [],
     "prompt_number": 64
    },
    {
     "cell_type": "code",
     "collapsed": false,
     "input": [
      "## predefined starting values\n",
      "mean = np.mean(Ka1_winkel)\n",
      "sigma = np.std(Ka1_winkel)\n",
      "\n",
      "\n",
      "## computing the optimized curve parameters\n",
      "popt, pcov = curve_fit(gaussian, Ka1_winkel, unp.nominal_values(Ka1_corr), p0=[np.max(unp.nominal_values(Ka1_corr)), mean, sigma], \n",
      "                       sigma=unp.std_devs(Ka1_corr))\n",
      "\n",
      "## plotting\n",
      "plt.xlabel('Winkel [$\\degree$]')\n",
      "plt.ylabel('Counts (ohne Grundrauschen) [1/s]')\n",
      "plt.title('Plot 4: $K_{\\\\alpha}$ - Linie 1.O. mit Gauss-Fit')\n",
      "plt.errorbar(Ka1_winkel, unp.nominal_values(Ka1_corr), yerr=unp.std_devs(Ka1_corr), fmt='r+',label='Messwerte')\n",
      "plt.plot(x, gaussian(x, *popt), 'k--', label='Gauss-Fit')\n",
      "plt.legend()\n",
      "plt.text(9.5, 2500, \"Gauss-Parameter:\")\n",
      "plt.text(9.5, 2300, \"$a = 2393.31$\")\n",
      "plt.text(9.5, 2100, \"$\\mu = 10.22$\")\n",
      "plt.text(9.5, 1900, \"$\\sigma = 0.13$\")\n",
      "plt.savefig('.data/plot4_ka1.pdf', format='pdf', dpi=100)\n",
      "plt.close()\n",
      "\n",
      "parameter = unp.uarray(popt, np.sqrt(np.diag(pcov)))\n",
      "print(\"Gauss-Parameter: a, x0, sigma:\", parameter)"
     ],
     "language": "python",
     "metadata": {},
     "outputs": [
      {
       "output_type": "stream",
       "stream": "stdout",
       "text": [
        "Gauss-Parameter: a, x0, sigma: [2393.3064672840956+/-179.03243033400423\n",
        " 10.22165382723103+/-0.010862625347519314\n",
        " 0.1310316316451784+/-0.010493607172042665]\n"
       ]
      }
     ],
     "prompt_number": 65
    },
    {
     "cell_type": "code",
     "collapsed": false,
     "input": [
      "## Bragg'sches Gesetz -> Wellenl\u00e4nge\n",
      "d = 201.4E-12 ## Netzebenenabstand\n",
      "\n",
      "lamb_a1 = 2 * d * unp.sin(Ka1_winkel[Ka1_corr.argmax()] * np.pi / 180) ## Wellenl\u00e4nge\n",
      "print(\"Wellenl\u00e4nge K-alpha 1ster Ordnung:\", lamb_a1)"
     ],
     "language": "python",
     "metadata": {},
     "outputs": [
      {
       "output_type": "stream",
       "stream": "stdout",
       "text": [
        "Wellenl\u00e4nge K-alpha 1ster Ordnung: 7.132973340072813e-11\n"
       ]
      }
     ],
     "prompt_number": 66
    },
    {
     "cell_type": "code",
     "collapsed": false,
     "input": [
      "## Halbwertsbreite:\n",
      "Hmax = np.max(gaussian(x, *popt))\n",
      "\n",
      "from scipy.interpolate import UnivariateSpline\n",
      "## compute the HMFWP via spline interpolation and finding it's roots.  \n",
      "spline = UnivariateSpline(x, gaussian(x, *popt)-Hmax/2, s=0)\n",
      "r1, r2 = spline.roots() # find the roots\n",
      "print(\"FWHM:\", r1, r2)\n",
      "print(\"Hmax/2:\", Hmax/2)\n",
      "\n",
      "## plotting\n",
      "plt.xlabel('Winkel [$\\degree$]')\n",
      "plt.ylabel('Counts (ohne Grundrauschen) [1/s]')\n",
      "plt.title('Plot 5: $K_{\\\\alpha}$ - Linie 1.O. Gauss-Fit mit Halbwertsbreite')\n",
      "plt.axvspan(r1, r2, facecolor='g', alpha=0.5, label='Halbwertsbreite')\n",
      "plt.plot(x, gaussian(x, *popt), 'k--', label='Gauss-Fit')\n",
      "plt.legend(loc=2, fontsize=10)\n",
      "plt.text(10.6, 2300, \"FWHM: [$\\degree$]\")\n",
      "plt.text(10.6, 2100, \"$10.07 [\\degree];  10.38 [\\degree] $\")\n",
      "plt.text(10.6, 1900, \"$\\\\frac{H_{max}}{2} = 1195.55$\")\n",
      "plt.savefig('.data/plot5_ka1_fwhm.pdf', format='pdf', dpi=100)\n",
      "plt.close()"
     ],
     "language": "python",
     "metadata": {},
     "outputs": [
      {
       "output_type": "stream",
       "stream": "stdout",
       "text": [
        "FWHM: 10.0672734105 10.3760341288\n",
        "Hmax/2: 1195.55349623\n"
       ]
      }
     ],
     "prompt_number": 67
    },
    {
     "cell_type": "markdown",
     "metadata": {},
     "source": [
      "$K_{\\beta}$ zweiter Ordnung"
     ]
    },
    {
     "cell_type": "code",
     "collapsed": false,
     "input": [
      "## K beta lines second order\n",
      "Kb2_winkel = np.array([18.2, 18.3, 18.4, 18.5, 18.6, 18.7])\n",
      "Kb2_counts = np.array([120, 154.1, 172.8, 120.8, 93.2, 89.5])\n",
      "Kb2_counts_err = np.sqrt(Kb2_counts)\n",
      "Kb2_corr = unp.uarray(Kb2_counts, Kb2_counts_err) - BG\n",
      "\n",
      "x = np.linspace(17.8, 19.2, num=100)"
     ],
     "language": "python",
     "metadata": {},
     "outputs": [],
     "prompt_number": 68
    },
    {
     "cell_type": "code",
     "collapsed": false,
     "input": [
      "## predefined starting values\n",
      "mean = np.mean(Kb2_winkel)\n",
      "sigma = np.std(Kb2_winkel)\n",
      "\n",
      "\n",
      "## computing the optimized curve parameters\n",
      "popt, pcov = curve_fit(gaussian, Kb2_winkel, unp.nominal_values(Kb2_corr), p0=[np.max(unp.nominal_values(Kb2_corr)), mean, sigma], \n",
      "                       sigma=unp.std_devs(Kb2_corr))\n",
      "\n",
      "## plotting\n",
      "plt.xlabel('Winkel [$\\degree$]')\n",
      "plt.ylabel('Counts (ohne Grundrauschen) [1/s]')\n",
      "plt.title('Plot 6: $K_{\\\\beta}$ - Linie 2.O. mit Gauss-Fit')\n",
      "plt.errorbar(Kb2_winkel[1:], unp.nominal_values(Kb2_corr)[1:], yerr=unp.std_devs(Kb2_corr)[1:], fmt='r+',label='Messwerte')\n",
      "plt.plot(x, gaussian(x, *popt), 'k--', label='Gauss-Fit')\n",
      "plt.legend()\n",
      "plt.text(17.9, 140, \"Gauss-Parameter:\")\n",
      "plt.text(17.9, 130, \"$a = 123.73$\")\n",
      "plt.text(17.9, 120, \"$\\mu = 18.36$\")\n",
      "plt.text(17.9, 110, \"$\\sigma = 0.23$\")\n",
      "plt.savefig('.data/plot6_kb2.pdf', format='pdf', dpi=100)\n",
      "plt.close()\n",
      "\n",
      "parameter = unp.uarray(popt, np.sqrt(np.diag(pcov)))\n",
      "print(\"Gauss-Parameter: a, x0, sigma:\", parameter)"
     ],
     "language": "python",
     "metadata": {},
     "outputs": [
      {
       "output_type": "stream",
       "stream": "stdout",
       "text": [
        "Gauss-Parameter: a, x0, sigma: [123.73225546665446+/-13.310417009428281\n",
        " 18.364323378906278+/-0.036994982785006555\n",
        " 0.23046028175752287+/-0.04695018987963996]\n"
       ]
      }
     ],
     "prompt_number": 69
    },
    {
     "cell_type": "code",
     "collapsed": false,
     "input": [
      "## Bragg'sches Gesetz -> Wellenl\u00e4nge\n",
      "d = 201.4E-12 ## Netzebenenabstand\n",
      "\n",
      "lamb_b2 = d * unp.sin(Kb2_winkel[Kb2_corr.argmax()] * np.pi / 180) ## Wellenl\u00e4nge\n",
      "print(\"Wellenl\u00e4nge K-beta 2ter Ordnung: \", lamb_b2)"
     ],
     "language": "python",
     "metadata": {},
     "outputs": [
      {
       "output_type": "stream",
       "stream": "stdout",
       "text": [
        "Wellenl\u00e4nge K-beta 2ter Ordnung:  6.357171604114642e-11\n"
       ]
      }
     ],
     "prompt_number": 70
    },
    {
     "cell_type": "markdown",
     "metadata": {},
     "source": [
      "$K_{\\alpha}$ zweiter Ordnung"
     ]
    },
    {
     "cell_type": "code",
     "collapsed": false,
     "input": [
      "## K alpha lines second order\n",
      "Ka2_winkel = np.array([20.5, 20.6, 20.7, 20.8, 20.9])\n",
      "Ka2_counts = np.array([116.2, 230.5, 347.6, 316.6, 185.4])\n",
      "Ka2_counts_err = np.sqrt(Ka2_counts)\n",
      "Ka2_corr = unp.uarray(Ka2_counts, Ka2_counts_err) - BG\n",
      "\n",
      "x = np.linspace(20, 21.4, num=100)"
     ],
     "language": "python",
     "metadata": {},
     "outputs": [],
     "prompt_number": 71
    },
    {
     "cell_type": "code",
     "collapsed": false,
     "input": [
      "## predefined starting values\n",
      "mean = np.mean(Ka2_winkel)\n",
      "sigma = np.std(Ka2_winkel)\n",
      "\n",
      "\n",
      "## computing the optimized curve parameters\n",
      "popt, pcov = curve_fit(gaussian, Ka2_winkel, unp.nominal_values(Ka2_corr), p0=[np.max(unp.nominal_values(Ka2_corr)), mean, sigma], \n",
      "                       sigma=unp.std_devs(Ka2_corr))\n",
      "\n",
      "## plotting\n",
      "plt.xlabel('Winkel [$\\degree$]')\n",
      "plt.ylabel('Counts (ohne Grundrauschen) [1/s]')\n",
      "plt.title('Plot 7: $K_{\\\\alpha}$ - Linie 2.O. mit Gauss-Fit')\n",
      "plt.errorbar(Ka2_winkel, unp.nominal_values(Ka2_corr), yerr=unp.std_devs(Ka2_corr), fmt='r+',label='Messwerte')\n",
      "plt.plot(x, gaussian(x, *popt), 'k--', label='Gauss-Fit')\n",
      "plt.legend()\n",
      "plt.text(20.1, 300, \"Gauss-Parameter:\")\n",
      "plt.text(20.1, 280, \"$a = 320.91$\")\n",
      "plt.text(20.1, 260, \"$\\mu = 20.73$\")\n",
      "plt.text(20.1, 240, \"$\\sigma = 0.14$\")\n",
      "plt.savefig('.data/plot7_ka2.pdf', format='pdf', dpi=100)\n",
      "plt.close()\n",
      "\n",
      "parameter = unp.uarray(popt, np.sqrt(np.diag(pcov)))\n",
      "print(\"Gauss-Parameter: a, x0, sigma:\", parameter)"
     ],
     "language": "python",
     "metadata": {},
     "outputs": [
      {
       "output_type": "stream",
       "stream": "stdout",
       "text": [
        "Gauss-Parameter: a, x0, sigma: [320.9139624546616+/-5.838998827150764\n",
        " 20.731704949509922+/-0.0025298164957312875\n",
        " 0.14001289451555146+/-0.002798434072866255]\n"
       ]
      }
     ],
     "prompt_number": 72
    },
    {
     "cell_type": "code",
     "collapsed": false,
     "input": [
      "## Bragg'sches Gesetz -> Wellenl\u00e4nge\n",
      "d = 201.4E-12 ## Netzebenenabstand\n",
      "\n",
      "lamb_a2 = d * unp.sin(Ka2_winkel[Ka2_corr.argmax()] * np.pi / 180) ## Wellenl\u00e4nge\n",
      "print(\"Wellenl\u00e4nge K-alpha 2ter Ordnung: \", lamb_a2)"
     ],
     "language": "python",
     "metadata": {},
     "outputs": [
      {
       "output_type": "stream",
       "stream": "stdout",
       "text": [
        "Wellenl\u00e4nge K-alpha 2ter Ordnung:  7.118983353714239e-11\n"
       ]
      }
     ],
     "prompt_number": 73
    },
    {
     "cell_type": "markdown",
     "metadata": {},
     "source": [
      "c)\n",
      "==="
     ]
    },
    {
     "cell_type": "markdown",
     "metadata": {},
     "source": [
      "Extrapolation"
     ]
    },
    {
     "cell_type": "code",
     "collapsed": false,
     "input": [
      "## spannung in kV\n",
      "\n",
      "volts = np.arange(20,36)\n",
      "volt_counts = np.array([1.5, 2.2, 4.7, 6.1, 34.6, 105.8, 155.8, 220.8, 261.6, 312.9, 360.1, 404.0, 449.5, 487.2, 531.2, 571.3])\n",
      "volt_counts_err = np.sqrt(volt_counts)\n",
      "volt_corr = unp.uarray(volt_counts, volt_counts_err) - BG"
     ],
     "language": "python",
     "metadata": {},
     "outputs": [],
     "prompt_number": 74
    },
    {
     "cell_type": "code",
     "collapsed": false,
     "input": [
      "## linear fit for the linear part. (neglecting the first 5 values)\n",
      "counts_fitted, popt, pcov = main.lin_reg(volts[5:], unp.nominal_values(volt_corr[5:]), sigma=unp.std_devs(volt_corr[5:]))\n",
      "perr = np.sqrt(np.diag(pcov))\n",
      "popt = unp.uarray(popt, perr)\n",
      "print(\"Parameter:\", popt)\n",
      "\n",
      "## Grenzspannung:\n",
      "volt_grenz = -popt[1]/popt[0]\n",
      "print(\"Grenzspannung:\", volt_grenz)\n",
      "\n",
      "## linear fit\n",
      "counts_fitted = popt[0]*volts + popt[1]\n",
      "\n",
      "## plotting\n",
      "plt.xlabel('Spannung [kV]')\n",
      "plt.ylabel('Counts (ohne Grundrauschen) [1/s]')\n",
      "plt.title('Plot 8: Linearer Fit des Anstieges mit Extrapolation')\n",
      "plt.errorbar(volts, unp.nominal_values(volt_corr), yerr=unp.std_devs(volt_corr), fmt='r+', label='Messwerte')\n",
      "plt.plot(volts, unp.nominal_values(counts_fitted), 'k--', label='Linearer Fit')\n",
      "plt.legend(loc=2)\n",
      "plt.text(20.5, 380, \"Geraden-Parameter:\")\n",
      "plt.text(20.5, 340, \"$k = 47.32$\")\n",
      "plt.text(20.5, 300, \"$d = -1099.67$\")\n",
      "plt.savefig('.data/plot8_lin_fit2.pdf', format='pdf', dpi=100)\n",
      "plt.close()"
     ],
     "language": "python",
     "metadata": {},
     "outputs": [
      {
       "output_type": "stream",
       "stream": "stdout",
       "text": [
        "Parameter: [47.317873803470114+/-0.9152524368968582\n",
        " -1099.669482326461+/-26.32526230956747]\n",
        "Grenzspannung: 23.2+/-0.7\n"
       ]
      }
     ],
     "prompt_number": 75
    },
    {
     "cell_type": "code",
     "collapsed": false,
     "input": [
      "## Berechnung von h:\n",
      "LAMBDA = 2 * d * np.sin(7.5 * np.pi / 180)\n",
      "C = 2.9979E8\n",
      "e = 1.6022E-19\n",
      "\n",
      "h = LAMBDA * e * volt_grenz * 1E3 / C\n",
      "print(\"Planck'sches Wirkungsquantum:\", h)"
     ],
     "language": "python",
     "metadata": {},
     "outputs": [
      {
       "output_type": "stream",
       "stream": "stdout",
       "text": [
        "Planck'sches Wirkungsquantum: (6.53+/-0.20)e-34\n"
       ]
      }
     ],
     "prompt_number": 76
    },
    {
     "cell_type": "markdown",
     "metadata": {},
     "source": [
      "PART 2\n",
      "======"
     ]
    },
    {
     "cell_type": "markdown",
     "metadata": {},
     "source": [
      "Gitterkonstante"
     ]
    },
    {
     "cell_type": "code",
     "collapsed": false,
     "input": [
      "## K-Linien mit Unsicherheit\n",
      "Kb1_nacl = unc.ufloat(6.4, 0.1)\n",
      "Ka1_nacl = unc.ufloat(7.2, 0.1)\n",
      "Kb2_nacl = unc.ufloat(13.0, 0.1)\n",
      "Ka2_nacl = unc.ufloat(14.6, 0.1)\n",
      "\n",
      "## Berchnung der Gitterkonstante f\u00fcr jede Linie \n",
      "print(\"Gitterkonstante   Avogadrozahl\")\n",
      "print(\"------------------------------\")\n",
      "d_nacl = lamb_b1/(2*unp.sin(Kb1_nacl * np.pi / 180))\n",
      "NA = 0.5 * 58.44 / (2.164E6 * d_nacl**3)\n",
      "print(2*d_nacl,  NA)\n",
      "\n",
      "d_nacl = lamb_a1/(2*unp.sin(Ka1_nacl * np.pi / 180))\n",
      "NA = 0.5 * 58.44 / (2.164E6 * d_nacl**3)\n",
      "print(2*d_nacl,  NA)\n",
      "\n",
      "d_nacl = lamb_b2/(unp.sin(Kb2_nacl * np.pi / 180))\n",
      "NA = 0.5 * 58.44 / (2.164E6 * d_nacl**3)\n",
      "print(2*d_nacl,  NA)\n",
      "\n",
      "d_nacl = lamb_a2/(unp.sin(Ka2_nacl * np.pi / 180))\n",
      "NA = 0.5 * 58.44 / (2.164E6 * d_nacl**3)\n",
      "print(2*d_nacl,  NA)\n"
     ],
     "language": "python",
     "metadata": {},
     "outputs": [
      {
       "output_type": "stream",
       "stream": "stdout",
       "text": [
        "Gitterkonstante   Avogadrozahl\n",
        "------------------------------\n",
        "(5.72+/-0.09)e-10 (5.79+/-0.27)e+23\n",
        "(5.69+/-0.08)e-10 (5.86+/-0.24)e+23\n",
        "(5.65+/-0.04)e-10 (5.98+/-0.14)e+23\n",
        "(5.65+/-0.04)e-10 (5.99+/-0.12)e+23\n"
       ]
      }
     ],
     "prompt_number": 77
    },
    {
     "cell_type": "code",
     "collapsed": false,
     "input": [],
     "language": "python",
     "metadata": {},
     "outputs": [],
     "prompt_number": 78
    },
    {
     "cell_type": "code",
     "collapsed": false,
     "input": [],
     "language": "python",
     "metadata": {},
     "outputs": []
    }
   ],
   "metadata": {}
  }
 ]
}