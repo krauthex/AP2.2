{
 "metadata": {
  "name": "",
  "signature": "sha256:607a542d82cf66c6774a02d738ca7d2d86643d8525d989b7f11365ede16a5979"
 },
 "nbformat": 3,
 "nbformat_minor": 0,
 "worksheets": [
  {
   "cells": [
    {
     "cell_type": "markdown",
     "metadata": {},
     "source": [
      "Ipython3 Notebook for experiment nr. 255\n",
      "================\n",
      "\n",
      "it is assumend, that this notebook is in the same directory as the module for this experiment.\n",
      "\n",
      "change the filenames and paths according to your set up"
     ]
    },
    {
     "cell_type": "markdown",
     "metadata": {},
     "source": [
      "PART 1\n",
      "======"
     ]
    },
    {
     "cell_type": "markdown",
     "metadata": {},
     "source": [
      "a)\n",
      "===="
     ]
    },
    {
     "cell_type": "code",
     "collapsed": false,
     "input": [
      "## using inline plots, only use for testing, turn off later. (it somehow affects the size of the saved plots)\n",
      "%matplotlib inline\n",
      "\n",
      "## importing the necessary modules\n",
      "import numpy as np\n",
      "import matplotlib.pyplot as plt\n",
      "import pylab as py\n",
      "import ap22_module as main\n",
      "import uncertainties as unc\n",
      "import uncertainties.unumpy as unp\n",
      "from scipy.optimize import curve_fit"
     ],
     "language": "python",
     "metadata": {},
     "outputs": [],
     "prompt_number": 23
    },
    {
     "cell_type": "code",
     "collapsed": false,
     "input": [
      "## Interpolation des kurzwelligen Ende's des Diagrammes\n",
      "\n",
      "winkel = np.array([3.0, 3.2, 3.4, 3.6, 3.8, 4.0, 4.2, 4.4, 4.6, 4.8, 5.0])\n",
      "counts = np.array([22.2, 26.2, 23.6, 27.0, 29.8, 26.2, 29.0, 35.6, 36.2, 40.8, 42.6])\n",
      "background_counts = np.mean(counts)\n",
      "background_err = np.std(counts)\n",
      "## background with uncertainties\n",
      "BG = unc.ufloat(background_counts, background_err)"
     ],
     "language": "python",
     "metadata": {},
     "outputs": [],
     "prompt_number": 12
    },
    {
     "cell_type": "code",
     "collapsed": false,
     "input": [
      "## linearer anstieg, mit unsicherheiten\n",
      "winkel_anstieg = np.array([5.2, 5.4, 5.6, 5.8])\n",
      "counts_anstieg = np.array([103.6, 230.4, 314.8, 404.6])\n",
      "counts_err = np.sqrt(counts_anstieg)\n",
      "lin_arr = unp.uarray(counts_anstieg, counts_err)\n",
      "lin_arr_cor = lin_arr - BG ## um hintergrund korrigiert\n",
      "\n",
      "## plotting\n",
      "plt.errorbar(winkel_anstieg, unp.nominal_values(lin_arr_cor), yerr = unp.std_devs(lin_arr_cor), fmt='r.')\n",
      "plt.xlim(5, 6,5)\n",
      "plt.xlabel('Winkel [$\\degree$]')\n",
      "plt.ylabel('Counts (ohne Grundrauschen) [1/s]')\n",
      "plt.title('Plot 1: Linearer Teil des Spektrums am kurzwelligen Ende')"
     ],
     "language": "python",
     "metadata": {},
     "outputs": [
      {
       "metadata": {},
       "output_type": "pyout",
       "prompt_number": 13,
       "text": [
        "<matplotlib.text.Text at 0x7f6ad9b7fb38>"
       ]
      },
      {
       "metadata": {},
       "output_type": "display_data",
       "png": "[encoded data removed]",
       "text": [
        "<matplotlib.figure.Figure at 0x7f6adf289f98>"
       ]
      }
     ],
     "prompt_number": 13
    },
    {
     "cell_type": "code",
     "collapsed": false,
     "input": [
      "## making the linear fit\n",
      "y_fitted, popt, pcov = main.lin_reg(winkel_anstieg, unp.nominal_values(lin_arr_cor), sigma=unp.std_devs(lin_arr_cor))\n",
      "perr = np.sqrt(np.diag(pcov))\n",
      "popt = unp.uarray(popt, perr)\n",
      "## generating a value sequence for the plot of the linear fit \n",
      "winkel_extra = np.linspace(5, 6, num=100)\n",
      "## linear fit\n",
      "counts_fitted = popt[0]*winkel_extra + popt[1]\n",
      "\n",
      "## plotting\n",
      "plt.xlabel('Winkel [$\\degree$]')\n",
      "plt.ylabel('Counts (ohne Grundrauschen) [1/s]')\n",
      "plt.title('Plot 1: Linearer Teil mit Fit')\n",
      "plt.errorbar(winkel_anstieg, unp.nominal_values(lin_arr_cor), yerr = unp.std_devs(lin_arr_cor), fmt='r.')\n",
      "plt.plot(winkel_extra, unp.nominal_values(counts_fitted),'k--')"
     ],
     "language": "python",
     "metadata": {},
     "outputs": [
      {
       "metadata": {},
       "output_type": "pyout",
       "prompt_number": 14,
       "text": [
        "[<matplotlib.lines.Line2D at 0x7f6ad9a9d2e8>]"
       ]
      },
      {
       "metadata": {},
       "output_type": "display_data",
       "png": "[encoded data removed]",
       "text": [
        "<matplotlib.figure.Figure at 0x7f6ada0a46d8>"
       ]
      }
     ],
     "prompt_number": 14
    },
    {
     "cell_type": "code",
     "collapsed": false,
     "input": [
      "## grenzwinkel in rad. der winkel, bei dem die counts = 0 sind.\n",
      "alpha_grenz = (-popt[1]/popt[0])*np.pi/180\n",
      "print(alpha_grenz)"
     ],
     "language": "python",
     "metadata": {},
     "outputs": [
      {
       "output_type": "stream",
       "stream": "stdout",
       "text": [
        "0.088+/-0.009\n"
       ]
      }
     ],
     "prompt_number": 15
    },
    {
     "cell_type": "code",
     "collapsed": false,
     "input": [
      "## Bragg'sches Gesetz -> Wellenl\u00e4nge\n",
      "\n",
      "d = 201.4E-12 ## Netzebenenabstand\n",
      "\n",
      "lamb = 2 * d * unp.sin(alpha_grenz) ## Grenzwellenl\u00e4nge\n",
      "print(lamb)"
     ],
     "language": "python",
     "metadata": {},
     "outputs": [
      {
       "output_type": "stream",
       "stream": "stdout",
       "text": [
        "(3.5+/-0.4)e-11\n"
       ]
      }
     ],
     "prompt_number": 16
    },
    {
     "cell_type": "code",
     "collapsed": false,
     "input": [
      "## planck'sches wirkungsquantum\n",
      "\n",
      "h = lamb * 1.6022E-19 * 35.0E3 / 2.9979E8\n",
      "print(h)"
     ],
     "language": "python",
     "metadata": {},
     "outputs": [
      {
       "output_type": "stream",
       "stream": "stdout",
       "text": [
        "(6.6+/-0.7)e-34\n"
       ]
      }
     ],
     "prompt_number": 17
    },
    {
     "cell_type": "code",
     "collapsed": false,
     "input": [
      "## ab wann setzen linien 2ter ordnung ein (winkel)? -> bragg'sches gesetz\n",
      "\n",
      "alpha_2O = unp.arcsin(lamb/d)*180/np.pi\n",
      "print(alpha_2O)"
     ],
     "language": "python",
     "metadata": {},
     "outputs": [
      {
       "output_type": "stream",
       "stream": "stdout",
       "text": [
        "10.1+/-1.0\n"
       ]
      }
     ],
     "prompt_number": 18
    },
    {
     "cell_type": "markdown",
     "metadata": {},
     "source": [
      "b)\n",
      "======"
     ]
    },
    {
     "cell_type": "code",
     "collapsed": false,
     "input": [
      "## K beta lines first order\n",
      "Kb1_winkel = np.array([8.8, 8.9, 9, 9.1, 9.2])\n",
      "Kb1_counts = np.array([530.8, 656.5, 968.4, 1104, 815.1])\n",
      "Kb1_counts_err = np.sqrt(Kb1_counts)\n",
      "Kb1_corr = unp.uarray(Kb1_counts, Kb1_counts_err) - BG\n",
      "\n",
      "x = np.linspace(8.5, 9.5, num=100)"
     ],
     "language": "python",
     "metadata": {},
     "outputs": [],
     "prompt_number": 64
    },
    {
     "cell_type": "code",
     "collapsed": false,
     "input": [
      "## predefined starting values\n",
      "mean = np.mean(Kb1_winkel)\n",
      "sigma = np.std(Kb1_winkel)\n",
      "\n",
      "## defining a gaussion curve for the fit\n",
      "def gaussian(x, a, x0, sigma):\n",
      "    return a*np.exp(-(x-x0)**2/(2*sigma**2))\n",
      "\n",
      "## computing the optimized curve parameters\n",
      "popt, pcov = curve_fit(gaussian, Kb1_winkel, unp.nominal_values(Kb1_corr), p0=[np.max(unp.nominal_values(Kb1_corr)), mean, sigma], \n",
      "                       sigma=unp.std_devs(Kb1_corr))\n",
      "\n",
      "## plotting\n",
      "plt.xlabel('Winkel [$\\degree$]')\n",
      "plt.ylabel('Counts (ohne Grundrauschen) [1/s]')\n",
      "plt.title('Plot 2: $K_{\\\\beta}$ - Linie 1.O. mit Gauss-Fit')\n",
      "plt.errorbar(Kb1_winkel, unp.nominal_values(Kb1_corr), yerr=unp.std_devs(Kb1_corr), fmt='b+:',label='Data')\n",
      "plt.plot(x, gaussian(x, *popt), 'r-', label='Gauss-Fit')\n",
      "plt.legend()\n",
      "\n",
      "print(np.sqrt(np.diag(pcov)))\n"
     ],
     "language": "python",
     "metadata": {},
     "outputs": [
      {
       "output_type": "stream",
       "stream": "stdout",
       "text": [
        "[  8.33854566e+01   3.05544556e-02   4.00603433e-02]\n"
       ]
      },
      {
       "metadata": {},
       "output_type": "display_data",
       "png": "[encoded data removed]",
       "text": [
        "<matplotlib.figure.Figure at 0x7f6ad948f3c8>"
       ]
      }
     ],
     "prompt_number": 76
    },
    {
     "cell_type": "code",
     "collapsed": false,
     "input": [],
     "language": "python",
     "metadata": {},
     "outputs": []
    }
   ],
   "metadata": {}
  }
 ]
}