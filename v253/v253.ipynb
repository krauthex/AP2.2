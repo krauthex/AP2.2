{
 "metadata": {
  "name": "",
  "signature": "sha256:01c15ad42f302001b105321427c96f67632ce7dda2ae268ee359df0ecb407141"
 },
 "nbformat": 3,
 "nbformat_minor": 0,
 "worksheets": [
  {
   "cells": [
    {
     "cell_type": "markdown",
     "metadata": {},
     "source": [
      "Ipython3 Notebook for experiment nr. 253\n",
      "=================\n",
      "\n",
      "it is assumend, that this notebook is in the same directory as the module for this experiment.\n",
      "\n",
      "change the filenames and paths according to your set up"
     ]
    },
    {
     "cell_type": "code",
     "collapsed": false,
     "input": [
      "%matplotlib inline\n",
      "\n",
      "import numpy as np\n",
      "import matplotlib.pyplot as plt\n",
      "import pylab as py\n",
      "import v253_module as v253"
     ],
     "language": "python",
     "metadata": {},
     "outputs": [],
     "prompt_number": 11
    },
    {
     "cell_type": "markdown",
     "metadata": {},
     "source": [
      "VII.1\n",
      "===="
     ]
    },
    {
     "cell_type": "code",
     "collapsed": false,
     "input": [
      "## reading in the data from the first file\n",
      "## keep in mind, that the first row is skipped by the function\n",
      "\n",
      "number, thickness, decays, duration = v253.load_data('.data/absorption_beta_alu.data', 4)"
     ],
     "language": "python",
     "metadata": {},
     "outputs": [],
     "prompt_number": 12
    },
    {
     "cell_type": "code",
     "collapsed": false,
     "input": [
      "## the last measurement is the background noise\n",
      "\n",
      "n0_beta = decays[-1]/duration[-1]\n",
      "\n",
      "## so we don't need the last entry anymore\n",
      "\n",
      "thickness = thickness[:12]\n",
      "duration = duration[:12]\n",
      "decays = decays[:12]\n",
      "\n",
      "print( decays/duration, n0_beta)"
     ],
     "language": "python",
     "metadata": {},
     "outputs": [
      {
       "output_type": "stream",
       "stream": "stdout",
       "text": [
        "[ 62.36666667  34.46666667  21.93333333  13.6         10.03333333\n",
        "   6.16666667   3.73333333   2.28333333   1.33333333   0.975        0.48333333\n",
        "   0.56666667] 0.566666666667\n"
       ]
      }
     ],
     "prompt_number": 19
    },
    {
     "cell_type": "code",
     "collapsed": false,
     "input": [
      "## now we will plot (n - n0_beta) in a log-lin plot against the thickness\n",
      "\n",
      "\n",
      "plt.yscale('linear')\n",
      "plt.xlabel('Thickness Aluminium [mm]')\n",
      "plt.ylabel('Decay log(n - n0_beta) [1/s]')\n",
      "plt.plot(thickness, decays/duration - n0_beta, 'go')\n",
      "plt.plot(thickness_extra, decay_thickness_fit(thickness_extra, fitParams[0], fitParams[1]))"
     ],
     "language": "python",
     "metadata": {},
     "outputs": [
      {
       "metadata": {},
       "output_type": "pyout",
       "prompt_number": 66,
       "text": [
        "[<matplotlib.lines.Line2D at 0x7ff055f2f128>]"
       ]
      },
      {
       "metadata": {},
       "output_type": "display_data",
       "png": "[encoded data removed]",
       "text": [
        "<matplotlib.figure.Figure at 0x7ff055ef2240>"
       ]
      }
     ],
     "prompt_number": 66
    },
    {
     "cell_type": "code",
     "collapsed": false,
     "input": [
      "## now we will use these values and extrapolate the curve\n",
      "## firstly we need more thickness values\n",
      "\n",
      "thickness_extra = np.arange(0, 6, 0.1)\n",
      "\n",
      "## feed the data to the function, and we just need the first return parameter\n",
      "\n",
      "decay_extra = v253.polynom_fit(thickness[:9], decays[:9]/duration[:9]- n0_beta, deg = 9, \n",
      "                 extrapolate=thickness_extra)[0]\n",
      "\n",
      "plt.yscale('log')\n",
      "plt.title('Decay against Thickness, extrapolated')\n",
      "plt.xlabel('Thickness Aluminium [mm]')\n",
      "plt.ylabel('Decay log(n - n0_beta) [1/s]')\n",
      "plt.plot(thickness_extra, decay_extra, 'g-')\n",
      "print(decay_extra)"
     ],
     "language": "python",
     "metadata": {},
     "outputs": [
      {
       "output_type": "stream",
       "stream": "stdout",
       "text": [
        "[  6.18000000e+01   4.69918544e+01   3.90663752e+01   3.39000000e+01\n",
        "   2.95367976e+01   2.53442998e+01   2.13666667e+01   1.78724586e+01\n",
        "   1.50801043e+01   1.30333333e+01   1.15913961e+01   1.04948101e+01\n",
        "   9.46666667e+00   8.31218720e+00   6.98524930e+00   5.60000000e+00\n",
        "   4.37844091e+00   3.54100703e+00   3.16666667e+00   3.07194577e+00\n",
        "   2.78452429e+00   1.71666667e+00  -3.23268039e-01  -2.10663821e+00\n",
        "   7.66666667e-01   1.86038228e+01   7.16429520e+01   1.95718989e+02\n",
        "   4.49978436e+02   9.27106481e+02   1.76658989e+03   3.17160237e+03\n",
        "   5.43016585e+03   8.94131105e+03   1.42470343e+04   2.20709239e+04\n",
        "   3.33644109e+04   4.93616794e+04   7.16443637e+04   1.02217244e+05\n",
        "   1.43596249e+05   1.98910174e+05   2.72017615e+05   3.67640733e+05\n",
        "   4.91517554e+05   6.50574655e+05   8.53122146e+05   1.10907303e+06\n",
        "   1.43018910e+06   1.83035571e+06   2.32588781e+06   2.93586978e+06\n",
        "   3.68253192e+06   4.59166614e+06   5.69308413e+06   7.02112093e+06\n",
        "   8.61518719e+06   1.05203736e+07   1.27881112e+07   1.54768905e+07]\n"
       ]
      },
      {
       "output_type": "stream",
       "stream": "stderr",
       "text": [
        "/usr/lib64/python3.4/site-packages/numpy/lib/polynomial.py:588: RankWarning: Polyfit may be poorly conditioned\n",
        "  warnings.warn(msg, RankWarning)\n"
       ]
      },
      {
       "metadata": {},
       "output_type": "display_data",
       "png": "[encoded data removed]",
       "text": [
        "<matplotlib.figure.Figure at 0x7ff05ab8cc88>"
       ]
      }
     ],
     "prompt_number": 43
    },
    {
     "cell_type": "code",
     "collapsed": false,
     "input": [
      "from scipy.optimize import curve_fit"
     ],
     "language": "python",
     "metadata": {},
     "outputs": [],
     "prompt_number": 44
    },
    {
     "cell_type": "code",
     "collapsed": false,
     "input": [
      "def decay_thickness_fit(thickness, d0, lamb):\n",
      "    return d0 * np.exp(-lamb*thickness)"
     ],
     "language": "python",
     "metadata": {},
     "outputs": [],
     "prompt_number": 51
    },
    {
     "cell_type": "code",
     "collapsed": false,
     "input": [
      "fitParams, fitCovariances = curve_fit(decay_thickness_fit, thickness, decays/duration)"
     ],
     "language": "python",
     "metadata": {},
     "outputs": [],
     "prompt_number": 62
    },
    {
     "cell_type": "code",
     "collapsed": false,
     "input": [
      "fitParams"
     ],
     "language": "python",
     "metadata": {},
     "outputs": [
      {
       "metadata": {},
       "output_type": "pyout",
       "prompt_number": 53,
       "text": [
        "array([  1.80428290e+03,   1.56694169e+00])"
       ]
      }
     ],
     "prompt_number": 53
    },
    {
     "cell_type": "code",
     "collapsed": false,
     "input": [
      "plt.plot(thickness, decay_thickness_fit(thickness, fitParams[0], fitParams[1]))\n",
      "\n",
      "        "
     ],
     "language": "python",
     "metadata": {},
     "outputs": [
      {
       "metadata": {},
       "output_type": "pyout",
       "prompt_number": 63,
       "text": [
        "[<matplotlib.lines.Line2D at 0x7ff056270c50>]"
       ]
      },
      {
       "metadata": {},
       "output_type": "display_data",
       "png": "[encoded data removed]",
       "text": [
        "<matplotlib.figure.Figure at 0x7ff0561eac18>"
       ]
      }
     ],
     "prompt_number": 63
    },
    {
     "cell_type": "code",
     "collapsed": false,
     "input": [],
     "language": "python",
     "metadata": {},
     "outputs": []
    }
   ],
   "metadata": {}
  }
 ]
}