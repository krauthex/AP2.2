{
 "metadata": {
  "name": "",
  "signature": "sha256:edf00f64a0cca5ad1d87720b33d15977abbe1154f1aca929b9fea3d4336a31c8"
 },
 "nbformat": 3,
 "nbformat_minor": 0,
 "worksheets": [
  {
   "cells": [
    {
     "cell_type": "markdown",
     "metadata": {},
     "source": [
      "Ipython3 Notebook for experiment nr. 253\n",
      "================\n",
      "\n",
      "it is assumend, that this notebook is in the same directory as the module for this experiment.\n",
      "\n",
      "change the filenames and paths according to your set up"
     ]
    },
    {
     "cell_type": "code",
     "collapsed": false,
     "input": [
      "%matplotlib inline\n",
      "\n",
      "import numpy as np\n",
      "import matplotlib.pyplot as plt\n",
      "import pylab as py\n",
      "import v253_module as v253\n",
      "from scipy.optimize import curve_fit"
     ],
     "language": "python",
     "metadata": {},
     "outputs": [],
     "prompt_number": 131
    },
    {
     "cell_type": "markdown",
     "metadata": {},
     "source": [
      "VII.1\n",
      "===="
     ]
    },
    {
     "cell_type": "code",
     "collapsed": false,
     "input": [
      "## reading in the data from the first file\n",
      "## keep in mind, that the first row is skipped by the function\n",
      "\n",
      "data = v253.load_data('.data/absorption_beta_alu.data')\n",
      "\n",
      "thickness = data[1]\n",
      "decays = data[2]\n",
      "duration = data[3]\n",
      "decay_err = np.sqrt(decays/duration)"
     ],
     "language": "python",
     "metadata": {},
     "outputs": [],
     "prompt_number": 132
    },
    {
     "cell_type": "code",
     "collapsed": false,
     "input": [
      "## the last measurement is the background noise\n",
      "n0_beta = decays[-1]/duration[-1]\n",
      "\n",
      "## so we don't need the last entry anymore\n",
      "thickness = thickness[:12]\n",
      "duration = duration[:12]\n",
      "decays = decays[:12]\n",
      "decay_err = decay_err[:12]\n"
     ],
     "language": "python",
     "metadata": {},
     "outputs": [],
     "prompt_number": 133
    },
    {
     "cell_type": "code",
     "collapsed": false,
     "input": [
      "## now we will plot (n - n0_beta) in a log-lin plot against the thickness\n",
      "plt.yscale('log')\n",
      "plt.xlabel('Thickness Aluminium [mm]')\n",
      "plt.ylabel('Decay log(n - n0_beta) [1/s]')\n",
      "plt.title('Plot 1: Absorption von Beta-Strahlung')\n",
      "plt.ylim(10**-3, 10**2)\n",
      "plt.xlim(min(thickness)-.5, max(thickness)*1.1)\n",
      "plt.plot(thickness, decays/duration - n0_beta, 'go')\n",
      "plt.errorbar(thickness, decays/duration - n0_beta, yerr=decay_err, fmt='r.')"
     ],
     "language": "python",
     "metadata": {},
     "outputs": [
      {
       "metadata": {},
       "output_type": "pyout",
       "prompt_number": 134,
       "text": [
        "<Container object of 3 artists>"
       ]
      },
      {
       "metadata": {},
       "output_type": "display_data",
       "png": "[encoded data removed]",
       "text": [
        "<matplotlib.figure.Figure at 0x7faee6d84208>"
       ]
      }
     ],
     "prompt_number": 134
    },
    {
     "cell_type": "markdown",
     "metadata": {},
     "source": [
      "Die letzten beien Werte liegen 1-$\\sigma$ Bereich vom Untergrund, somit sind diese nicht aussagestark. Daher wird die max. Reichweite auf $X_{max} =( 3.3 \\pm 0.5 )mm$ abgesch\u00e4tzt."
     ]
    },
    {
     "cell_type": "markdown",
     "metadata": {},
     "source": [
      "[Hier fehlt die vollst\u00e4ndige Auswertung - mehr Spa\u00df f\u00fcr euch ;)]"
     ]
    },
    {
     "cell_type": "markdown",
     "metadata": {},
     "source": [
      "VII.2\n",
      "====="
     ]
    },
    {
     "cell_type": "code",
     "collapsed": false,
     "input": [
      "## reading in the data from the first file\n",
      "## keep in mind, that the first row is skipped by the function\n",
      "\n",
      "data = v253.load_data('.data/absorption_gamma_blei_60s.data')\n",
      "\n",
      "thickness = 10 * data[1]\n",
      "decays = data[2]\n",
      "## decays divided by 60 because of a 60 second measuring period \n",
      "decays_second = decays/60.\n",
      "decay_err = np.sqrt(decays_second)\n",
      "\n",
      "# background noise\n",
      "n0_gamma = 90/60"
     ],
     "language": "python",
     "metadata": {},
     "outputs": [],
     "prompt_number": 135
    },
    {
     "cell_type": "code",
     "collapsed": false,
     "input": [
      "## now we will plot (n - n0_beta) in a log-lin plot against the thickness\n",
      "plt.yscale('log')\n",
      "plt.xlabel('Thickness lead [mm]')\n",
      "plt.ylabel('Decay log(n - n0_gamma) [1/s]')\n",
      "plt.title('Plot 2: Absorption von $\\gamma$ - Strahlung')\n",
      "plt.plot(thickness,  decays_second - n0_gamma, 'go')\n",
      "\n",
      "fitted_gamma, coefficients = v253.polynom_fit(thickness, np.log(decays_second-n0_gamma))\n",
      "\n",
      "plt.plot(thickness, np.exp(fitted_gamma), 'b-')"
     ],
     "language": "python",
     "metadata": {},
     "outputs": [
      {
       "metadata": {},
       "output_type": "pyout",
       "prompt_number": 136,
       "text": [
        "[<matplotlib.lines.Line2D at 0x7faee592aef0>]"
       ]
      },
      {
       "metadata": {},
       "output_type": "display_data",
       "png": "[encoded data removed]",
       "text": [
        "<matplotlib.figure.Figure at 0x7faee5e43908>"
       ]
      }
     ],
     "prompt_number": 136
    },
    {
     "cell_type": "code",
     "collapsed": false,
     "input": [
      "#We're now interested in the slope of the fitted function:\n",
      "slope = -np.exp(coefficients[0])\n",
      "print('Die Steigung betr\u00e4gt: ' + str(slope))"
     ],
     "language": "python",
     "metadata": {},
     "outputs": [
      {
       "output_type": "stream",
       "stream": "stdout",
       "text": [
        "Die Steigung betr\u00e4gt: -0.940036432836\n"
       ]
      }
     ],
     "prompt_number": 137
    },
    {
     "cell_type": "markdown",
     "metadata": {},
     "source": [
      "VII.4\n",
      "====="
     ]
    },
    {
     "cell_type": "code",
     "collapsed": false,
     "input": [
      "## reading in the data from the first file\n",
      "## keep in mind, that the first row is skipped by the function\n",
      "\n",
      "data = v253.load_data('.data/absorption_alpha_luft_60s.data')\n",
      "\n",
      "pressure = data[1]\n",
      "decays = data[2]\n",
      "## decays divided by 60 because of a 60 second measuring period \n",
      "decays_second = decays/60.\n",
      "decay_err = np.sqrt(decays_second)"
     ],
     "language": "python",
     "metadata": {},
     "outputs": [],
     "prompt_number": 138
    },
    {
     "cell_type": "code",
     "collapsed": false,
     "input": [
      "## now we will plot (n - n0_beta) in a log-lin plot against the thickness\n",
      "plt.xlabel('Air pressure [mbar]')\n",
      "plt.ylabel('Decay alpha [1/s]')\n",
      "plt.plot(pressure,  decays_second, 'go')"
     ],
     "language": "python",
     "metadata": {},
     "outputs": [
      {
       "metadata": {},
       "output_type": "pyout",
       "prompt_number": 139,
       "text": [
        "[<matplotlib.lines.Line2D at 0x7faee58d1278>]"
       ]
      },
      {
       "metadata": {},
       "output_type": "display_data",
       "png": "[encoded data removed]",
       "text": [
        "<matplotlib.figure.Figure at 0x7faee58d1dd8>"
       ]
      }
     ],
     "prompt_number": 139
    },
    {
     "cell_type": "code",
     "collapsed": false,
     "input": [
      "# finding the pressure at which the decay decreased to half of the original value:\n",
      "\n",
      "print('Druck: ' + str(pressure[np.abs(decays_second - np.max(decays_second)/2).argmin()]) + ' mbar')"
     ],
     "language": "python",
     "metadata": {},
     "outputs": [
      {
       "output_type": "stream",
       "stream": "stdout",
       "text": [
        "Druck: 345.0 mbar\n"
       ]
      }
     ],
     "prompt_number": 140
    },
    {
     "cell_type": "code",
     "collapsed": false,
     "input": [],
     "language": "python",
     "metadata": {},
     "outputs": [],
     "prompt_number": 140
    },
    {
     "cell_type": "code",
     "collapsed": false,
     "input": [],
     "language": "python",
     "metadata": {},
     "outputs": [],
     "prompt_number": 140
    }
   ],
   "metadata": {}
  }
 ]
}