{
 "metadata": {
  "name": "",
  "signature": "sha256:417ff77d5b9ad423287d124f2c3e77345dfbcb58b9f54fefc733087424d7efb8"
 },
 "nbformat": 3,
 "nbformat_minor": 0,
 "worksheets": [
  {
   "cells": [
    {
     "cell_type": "markdown",
     "metadata": {},
     "source": [
      "Ipython3 Notebook for experiment nr. 253\n",
      "================\n",
      "\n",
      "it is assumend, that this notebook is in the same directory as the module for this experiment.\n",
      "\n",
      "change the filenames and paths according to your set up"
     ]
    },
    {
     "cell_type": "code",
     "collapsed": false,
     "input": [
      "%matplotlib inline\n",
      "\n",
      "import numpy as np\n",
      "import matplotlib.pyplot as plt\n",
      "import pylab as py\n",
      "import v253_module as v253\n",
      "from scipy.optimize import curve_fit"
     ],
     "language": "python",
     "metadata": {},
     "outputs": [],
     "prompt_number": 1
    },
    {
     "cell_type": "markdown",
     "metadata": {},
     "source": [
      "VII.1\n",
      "===="
     ]
    },
    {
     "cell_type": "code",
     "collapsed": false,
     "input": [
      "## reading in the data from the first file\n",
      "## keep in mind, that the first row is skipped by the function\n",
      "\n",
      "data = v253.load_data('.data/absorption_beta_alu.data')\n",
      "\n",
      "thickness = data[1]\n",
      "decays = data[2]\n",
      "duration = data[3]\n",
      "decay_err = np.sqrt(decays/duration)"
     ],
     "language": "python",
     "metadata": {},
     "outputs": [],
     "prompt_number": 2
    },
    {
     "cell_type": "code",
     "collapsed": false,
     "input": [
      "## the last measurement is the background noise\n",
      "n0_beta = decays[-1]/duration[-1]\n",
      "\n",
      "## so we don't need the last entry anymore\n",
      "thickness = thickness[:12]\n",
      "duration = duration[:12]\n",
      "decays = decays[:12]\n",
      "decay_err = decay_err[:12]\n",
      "\n",
      "## also, we want to fit a curve to our data points\n",
      "def decay_thickness_fit(thickness, d0, lamb):\n",
      "    return d0 * np.exp(-lamb*thickness)\n",
      "\n",
      "fitParams, fitCovariances = curve_fit(decay_thickness_fit, thickness, decays/duration, sigma=decay_err)"
     ],
     "language": "python",
     "metadata": {},
     "outputs": [],
     "prompt_number": 3
    },
    {
     "cell_type": "code",
     "collapsed": false,
     "input": [
      "## now we will plot (n - n0_beta) in a log-lin plot against the thickness\n",
      "plt.yscale('log')\n",
      "plt.xlabel('Thickness Aluminium [mm]')\n",
      "plt.ylabel('Decay log(n - n0_beta) [1/s]')\n",
      "plt.plot(thickness, decays/duration - n0_beta, 'go')\n",
      "plt.plot(thickness, decay_thickness_fit(thickness, fitParams[0], fitParams[1]))"
     ],
     "language": "python",
     "metadata": {},
     "outputs": [
      {
       "metadata": {},
       "output_type": "pyout",
       "prompt_number": 4,
       "text": [
        "[<matplotlib.lines.Line2D at 0x7f5e57dd2cf8>]"
       ]
      },
      {
       "metadata": {},
       "output_type": "display_data",
       "png": "[encoded data removed]",
       "text": [
        "<matplotlib.figure.Figure at 0x7f5e57db12e8>"
       ]
      }
     ],
     "prompt_number": 4
    },
    {
     "cell_type": "code",
     "collapsed": false,
     "input": [
      "decays/duration - n0_beta"
     ],
     "language": "python",
     "metadata": {},
     "outputs": [
      {
       "metadata": {},
       "output_type": "pyout",
       "prompt_number": 5,
       "text": [
        "array([  6.19000000e+01,   3.40000000e+01,   2.14666667e+01,\n",
        "         1.31333333e+01,   9.56666667e+00,   5.70000000e+00,\n",
        "         3.26666667e+00,   1.81666667e+00,   8.66666667e-01,\n",
        "         5.08333333e-01,   1.66666667e-02,   1.00000000e-01])"
       ]
      }
     ],
     "prompt_number": 5
    },
    {
     "cell_type": "markdown",
     "metadata": {},
     "source": [
      "VII.2\n",
      "====="
     ]
    },
    {
     "cell_type": "code",
     "collapsed": false,
     "input": [
      "## reading in the data from the first file\n",
      "## keep in mind, that the first row is skipped by the function\n",
      "\n",
      "data = v253.load_data('.data/absorption_gamma_blei_60s.data')\n",
      "\n",
      "thickness = data[1]\n",
      "decays = data[2]\n",
      "## decays divided by 60 because of a 60 second measuring period \n",
      "decays_second = decays/60.\n",
      "decay_err = np.sqrt(decays_second)"
     ],
     "language": "python",
     "metadata": {},
     "outputs": [],
     "prompt_number": 6
    },
    {
     "cell_type": "code",
     "collapsed": false,
     "input": [
      "## now we will plot (n - n0_beta) in a log-lin plot against the thickness\n",
      "plt.yscale('log')\n",
      "plt.xlabel('Thickness lead [mm]')\n",
      "plt.ylabel('Decay log(n - n0_gamma) [1/s]')\n",
      "plt.plot(thickness,  decays_second, 'go')\n",
      "\n",
      "fitted_gamma, coefficients = v253.polynom_fit(thickness, np.log(decays_second))\n",
      "\n",
      "plt.plot(thickness, np.exp(fitted_gamma), 'b-')"
     ],
     "language": "python",
     "metadata": {},
     "outputs": [
      {
       "metadata": {},
       "output_type": "pyout",
       "prompt_number": 7,
       "text": [
        "[<matplotlib.lines.Line2D at 0x7f5e57719cc0>]"
       ]
      },
      {
       "metadata": {},
       "output_type": "display_data",
       "png": "[encoded data removed]",
       "text": [
        "<matplotlib.figure.Figure at 0x7f5e577691d0>"
       ]
      }
     ],
     "prompt_number": 7
    },
    {
     "cell_type": "code",
     "collapsed": false,
     "input": [
      "plt.plot(thickness, -np.exp(coefficients[0]) * thickness + np.exp(coefficients[1]))\n",
      "\n",
      "slope = -np.exp(coefficients[0])\n",
      "print(slope)"
     ],
     "language": "python",
     "metadata": {},
     "outputs": [
      {
       "output_type": "stream",
       "stream": "stdout",
       "text": [
        "-0.570821750566\n"
       ]
      },
      {
       "metadata": {},
       "output_type": "display_data",
       "png": "[encoded data removed]",
       "text": [
        "<matplotlib.figure.Figure at 0x7f5e57732d30>"
       ]
      }
     ],
     "prompt_number": 9
    },
    {
     "cell_type": "code",
     "collapsed": false,
     "input": [
      "## reading in the data from the first file\n",
      "## keep in mind, that the first row is skipped by the function\n",
      "\n",
      "data = v253.load_data('.data/absorption_alpha_luft_60s.data')\n",
      "\n",
      "pressure = data[1]\n",
      "decays = data[2]\n",
      "## decays divided by 60 because of a 60 second measuring period \n",
      "decays_second = decays/60.\n",
      "decay_err = np.sqrt(decays_second)"
     ],
     "language": "python",
     "metadata": {},
     "outputs": []
    },
    {
     "cell_type": "code",
     "collapsed": false,
     "input": [
      "## now we will plot (n - n0_beta) in a log-lin plot against the thickness\n",
      "plt.yscale('log')\n",
      "plt.xlabel('Air pressure [mbar]')\n",
      "plt.ylabel('Decay alpha [1/s]')\n",
      "plt.plot(pressure,  decays_second, 'go')\n",
      "\n",
      "fitted_gamma, coefficients = v253.polynom_fit(pressure, np.log(decays_second))\n",
      "\n",
      "plt.plot(pressure, np.exp(fitted_gamma), 'b-')"
     ],
     "language": "python",
     "metadata": {},
     "outputs": []
    },
    {
     "cell_type": "code",
     "collapsed": false,
     "input": [
      "print(coefficients)"
     ],
     "language": "python",
     "metadata": {},
     "outputs": []
    },
    {
     "cell_type": "code",
     "collapsed": false,
     "input": [],
     "language": "python",
     "metadata": {},
     "outputs": []
    },
    {
     "cell_type": "code",
     "collapsed": false,
     "input": [],
     "language": "python",
     "metadata": {},
     "outputs": []
    }
   ],
   "metadata": {}
  }
 ]
}