{
 "metadata": {
  "name": "",
  "signature": "sha256:486d5007e8550e7d3624d51c4222154b69b58f460c9c3bf49e60040a5347d18e"
 },
 "nbformat": 3,
 "nbformat_minor": 0,
 "worksheets": [
  {
   "cells": [
    {
     "cell_type": "markdown",
     "metadata": {},
     "source": [
      "Ipython3 Notebook for experiment nr. 253\n",
      "================\n",
      "\n",
      "it is assumend, that this notebook is in the same directory as the module for this experiment.\n",
      "\n",
      "change the filenames and paths according to your set up"
     ]
    },
    {
     "cell_type": "code",
     "collapsed": false,
     "input": [
      "## using inline plots, only use for testing, turn off later. (it somehow affects the size of the saved plots)\n",
      "#%matplotlib inline\n",
      "\n",
      "## importing the necessary modules\n",
      "import numpy as np\n",
      "import matplotlib.pyplot as plt\n",
      "import pylab as py\n",
      "import v253_module as v253\n",
      "\n",
      "## data file paths (relative to the working directory)\n",
      "alpha_path = '.data/absorption_alpha_luft_60s.data'\n",
      "beta_path = '.data/absorption_beta_alu.data'\n",
      "gamma_path = '.data/absorption_gamma_blei_60s.data'"
     ],
     "language": "python",
     "metadata": {},
     "outputs": [],
     "prompt_number": 21
    },
    {
     "cell_type": "markdown",
     "metadata": {},
     "source": [
      "VII.1\n",
      "===="
     ]
    },
    {
     "cell_type": "code",
     "collapsed": false,
     "input": [
      "## reading in the data from the first file\n",
      "## keep in mind, that the first row is skipped by the function\n",
      "\n",
      "data = v253.load_data(beta_path)\n",
      "\n",
      "thickness = data[1]\n",
      "decays = data[2]\n",
      "duration = data[3]\n",
      "decay_err = np.sqrt(decays/duration)"
     ],
     "language": "python",
     "metadata": {},
     "outputs": [],
     "prompt_number": 22
    },
    {
     "cell_type": "code",
     "collapsed": false,
     "input": [
      "## the last measurement is the background noise\n",
      "n0_beta = decays[-1]/duration[-1]\n",
      "\n",
      "## so we don't need the last entry anymore\n",
      "thickness = thickness[:12]\n",
      "duration = duration[:12]\n",
      "decays = decays[:12]\n",
      "decay_err = decay_err[:12]\n"
     ],
     "language": "python",
     "metadata": {},
     "outputs": [],
     "prompt_number": 23
    },
    {
     "cell_type": "code",
     "collapsed": false,
     "input": [
      "## now we will plot (n - n0_beta) in a log-lin plot against the thickness\n",
      "plt.yscale('log')\n",
      "plt.xlabel('Dicke Aluminium [mm]')\n",
      "plt.ylabel('$\\\\beta$ - Zerfall $ log(n - {{n^0}_\\\\beta}) $ [1/s]')\n",
      "plt.title('Plot 1: Absorption von $\\\\beta$ - Strahlung')\n",
      "plt.ylim(10**-3, 10**2)\n",
      "plt.xlim(-.2, max(thickness)*1.1)\n",
      "#plt.plot(thickness, decays/duration - n0_beta, 'go')\n",
      "plt.errorbar(thickness, decays/duration - n0_beta, yerr=decay_err, fmt='ro', label=r'Messwerte')\n",
      "plt.legend(loc='best',prop={'size':16})\n",
      "plt.savefig('.data/Absorption_beta.png')\n",
      "plt.close()"
     ],
     "language": "python",
     "metadata": {},
     "outputs": [],
     "prompt_number": 24
    },
    {
     "cell_type": "markdown",
     "metadata": {},
     "source": [
      "Die letzten beien Werte liegen 1-$\\sigma$ Bereich vom Untergrund, somit sind diese nicht aussagestark. Daher wird die max. Reichweite auf $X_{max} =( 3.3 \\pm 0.5 )mm$ abgesch\u00e4tzt."
     ]
    },
    {
     "cell_type": "markdown",
     "metadata": {},
     "source": [
      "[Hier fehlt die vollst\u00e4ndige Auswertung - mehr Spa\u00df f\u00fcr euch ;)]"
     ]
    },
    {
     "cell_type": "markdown",
     "metadata": {},
     "source": [
      "VII.2\n",
      "====="
     ]
    },
    {
     "cell_type": "code",
     "collapsed": false,
     "input": [
      "## reading in the data from the first file\n",
      "## keep in mind, that the first row is skipped by the function\n",
      "\n",
      "data = v253.load_data(gamma_path)\n",
      "\n",
      "thickness = 10 * data[1]\n",
      "decays = data[2]\n",
      "## decays divided by 60 because of a 60 second measuring period \n",
      "decays_second = decays/60.\n",
      "decay_err = np.sqrt(decays_second)\n",
      "\n",
      "# background noise: 90 counts in 60 seconds\n",
      "n0_gamma = 90/60"
     ],
     "language": "python",
     "metadata": {},
     "outputs": [],
     "prompt_number": 25
    },
    {
     "cell_type": "code",
     "collapsed": false,
     "input": [
      "## linear fit for the gamma absorption data set (with corretion for the background noise)\n",
      "fitted_decay, popt, pcov = v253.lin_reg(thickness, np.log(decays_second-n0_gamma), sigma=decay_err)\n",
      "\n",
      "##since the lin_reg function just returns a linear function, we need to re-use the coefficients for an exponential function\n",
      "fitted_exp = np.exp(popt[1])*np.exp(popt[0]*thickness)\n",
      "\n",
      "## now we will plot (n - n0_beta) in a log-lin plot against the thickness\n",
      "plt.yscale('log')\n",
      "plt.xlabel('Dicke Blei [mm]')\n",
      "plt.ylabel('$\\gamma$ - Zerfall $ log(n - n^0)$ [1/s]')\n",
      "plt.title('Plot 2: Absorption von $\\gamma$ - Strahlung')\n",
      "## setting some limits for the plot so the points are better visible\n",
      "plt.xlim(-1, 51)\n",
      "plt.ylim(1, 2*10**2)\n",
      "plt.errorbar(thickness,  decays_second - n0_gamma, yerr=decay_err, fmt='ro', label=r'Messwerte')\n",
      "plt.plot(thickness, fitted_exp, 'g-', label=r'Linearer Fit: $ k*x + b, k=-0.06175, b=4.44140$')\n",
      "plt.legend(loc='best',prop={'size':16})\n",
      "plt.savefig('.data/Absorption_gamma.png')\n",
      "plt.close()"
     ],
     "language": "python",
     "metadata": {},
     "outputs": [],
     "prompt_number": 26
    },
    {
     "cell_type": "code",
     "collapsed": false,
     "input": [
      "#We're now interested in the slope of the fitted function:\n",
      "print('Die Steigung betr\u00e4gt: ' + str(popt[0]))\n",
      "print('Fehler der Parameter: ' + str(np.sqrt(np.diag(pcov))))"
     ],
     "language": "python",
     "metadata": {},
     "outputs": [
      {
       "output_type": "stream",
       "stream": "stdout",
       "text": [
        "Die Steigung betr\u00e4gt: -0.0617580752443\n",
        "Fehler der Parameter: [ 0.00124261  0.04849151]\n"
       ]
      }
     ],
     "prompt_number": 27
    },
    {
     "cell_type": "markdown",
     "metadata": {},
     "source": [
      "VII.4\n",
      "====="
     ]
    },
    {
     "cell_type": "code",
     "collapsed": false,
     "input": [
      "## reading in the data from the first file\n",
      "## keep in mind, that the first row is skipped by the function\n",
      "\n",
      "data = v253.load_data(alpha_path)\n",
      "\n",
      "pressure = data[1]\n",
      "decays = data[2]\n",
      "## decays divided by 60 because of a 60 second measuring period \n",
      "decays_second = decays/60.\n",
      "decay_err = np.sqrt(decays_second)"
     ],
     "language": "python",
     "metadata": {},
     "outputs": [],
     "prompt_number": 28
    },
    {
     "cell_type": "code",
     "collapsed": false,
     "input": [
      "## now we will plot (n - n0_beta) in a log-lin plot against the thickness\n",
      "plt.xlabel('Luftdruck [mbar]')\n",
      "plt.ylabel('$\\\\alpha$ - Zerfall [1/s]')\n",
      "plt.title('Plot 3: Absorption von $\\\\alpha$ - Strahlung')\n",
      "plt.xlim(-10, 1100)\n",
      "plt.ylim(-5, 100)\n",
      "plt.errorbar(pressure,  decays_second, yerr=decay_err, fmt='ro', label=r'Messwerte')\n",
      "plt.legend(loc='best',prop={'size':16})\n",
      "plt.savefig('.data/Absorption_alpha.png')\n",
      "plt.close()"
     ],
     "language": "python",
     "metadata": {},
     "outputs": [],
     "prompt_number": 29
    },
    {
     "cell_type": "code",
     "collapsed": false,
     "input": [
      "# finding the pressure at which the decay decreased to half of the original value:\n",
      "\n",
      "print('Druck: ' + str(pressure[np.abs(decays_second - np.max(decays_second)/2).argmin()]) + ' mbar')"
     ],
     "language": "python",
     "metadata": {},
     "outputs": [
      {
       "output_type": "stream",
       "stream": "stdout",
       "text": [
        "Druck: 345.0 mbar\n"
       ]
      }
     ],
     "prompt_number": 30
    },
    {
     "cell_type": "code",
     "collapsed": false,
     "input": [],
     "language": "python",
     "metadata": {},
     "outputs": [],
     "prompt_number": 30
    },
    {
     "cell_type": "code",
     "collapsed": false,
     "input": [],
     "language": "python",
     "metadata": {},
     "outputs": [],
     "prompt_number": 30
    }
   ],
   "metadata": {}
  }
 ]
}