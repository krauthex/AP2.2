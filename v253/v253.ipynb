{
 "metadata": {
  "name": "",
  "signature": "sha256:b54801e13f82b5c61eb3f187f03914b5f6fa4ee7be2c6506a3ee20fe6e35dc0c"
 },
 "nbformat": 3,
 "nbformat_minor": 0,
 "worksheets": [
  {
   "cells": [
    {
     "cell_type": "markdown",
     "metadata": {},
     "source": [
      "Ipython3 Notebook for experiment nr. 253\n",
      "================\n",
      "\n",
      "it is assumend, that this notebook is in the same directory as the module for this experiment.\n",
      "\n",
      "change the filenames and paths according to your set up"
     ]
    },
    {
     "cell_type": "code",
     "collapsed": false,
     "input": [
      "## using inline plots\n",
      "%matplotlib inline\n",
      "\n",
      "## importing the necessary modules\n",
      "import numpy as np\n",
      "import matplotlib.pyplot as plt\n",
      "import pylab as py\n",
      "import v253_module as v253\n",
      "\n",
      "## data file paths\n",
      "alpha_path = '.data/absorption_alpha_luft_60s.data'\n",
      "beta_path = '.data/absorption_beta_alu.data'\n",
      "gamma_path = '.data/absorption_gamma_blei_60s.data'"
     ],
     "language": "python",
     "metadata": {},
     "outputs": [],
     "prompt_number": 1
    },
    {
     "cell_type": "markdown",
     "metadata": {},
     "source": [
      "VII.1\n",
      "===="
     ]
    },
    {
     "cell_type": "code",
     "collapsed": false,
     "input": [
      "## reading in the data from the first file\n",
      "## keep in mind, that the first row is skipped by the function\n",
      "\n",
      "data = v253.load_data(beta_path)\n",
      "\n",
      "thickness = data[1]\n",
      "decays = data[2]\n",
      "duration = data[3]\n",
      "decay_err = np.sqrt(decays/duration)"
     ],
     "language": "python",
     "metadata": {},
     "outputs": [],
     "prompt_number": 97
    },
    {
     "cell_type": "code",
     "collapsed": false,
     "input": [
      "## the last measurement is the background noise\n",
      "n0_beta = decays[-1]/duration[-1]\n",
      "\n",
      "## so we don't need the last entry anymore\n",
      "thickness = thickness[:12]\n",
      "duration = duration[:12]\n",
      "decays = decays[:12]\n",
      "decay_err = decay_err[:12]\n"
     ],
     "language": "python",
     "metadata": {},
     "outputs": [],
     "prompt_number": 98
    },
    {
     "cell_type": "code",
     "collapsed": false,
     "input": [
      "## now we will plot (n - n0_beta) in a log-lin plot against the thickness\n",
      "plt.yscale('log')\n",
      "plt.xlabel('Thickness Aluminium [mm]')\n",
      "plt.ylabel('Decay $ log(n - n0_beta) $ [1/s]')\n",
      "plt.title('Plot 1: Absorption von Beta-Strahlung')\n",
      "plt.ylim(10**-3, 10**2)\n",
      "plt.xlim(-.2, max(thickness)*1.1)\n",
      "#plt.plot(thickness, decays/duration - n0_beta, 'go')\n",
      "plt.errorbar(thickness, decays/duration - n0_beta, yerr=decay_err, fmt='ro', label=r'Messwerte')\n",
      "plt.legend(loc='best',prop={'size':16})"
     ],
     "language": "python",
     "metadata": {},
     "outputs": [
      {
       "metadata": {},
       "output_type": "pyout",
       "prompt_number": 99,
       "text": [
        "<matplotlib.legend.Legend at 0x7f7710a1dd30>"
       ]
      },
      {
       "metadata": {},
       "output_type": "display_data",
       "png": "[encoded data removed]",
       "text": [
        "<matplotlib.figure.Figure at 0x7f7710a22198>"
       ]
      }
     ],
     "prompt_number": 99
    },
    {
     "cell_type": "markdown",
     "metadata": {},
     "source": [
      "Die letzten beien Werte liegen 1-$\\sigma$ Bereich vom Untergrund, somit sind diese nicht aussagestark. Daher wird die max. Reichweite auf $X_{max} =( 3.3 \\pm 0.5 )mm$ abgesch\u00e4tzt."
     ]
    },
    {
     "cell_type": "markdown",
     "metadata": {},
     "source": [
      "[Hier fehlt die vollst\u00e4ndige Auswertung - mehr Spa\u00df f\u00fcr euch ;)]"
     ]
    },
    {
     "cell_type": "markdown",
     "metadata": {},
     "source": [
      "VII.2\n",
      "====="
     ]
    },
    {
     "cell_type": "code",
     "collapsed": false,
     "input": [
      "## reading in the data from the first file\n",
      "## keep in mind, that the first row is skipped by the function\n",
      "\n",
      "data = v253.load_data(gamma_path)\n",
      "\n",
      "thickness = 10 * data[1]\n",
      "decays = data[2]\n",
      "## decays divided by 60 because of a 60 second measuring period \n",
      "decays_second = decays/60.\n",
      "decay_err = np.sqrt(decays_second)\n",
      "\n",
      "# background noise\n",
      "n0_gamma = 90/60"
     ],
     "language": "python",
     "metadata": {},
     "outputs": [],
     "prompt_number": 100
    },
    {
     "cell_type": "code",
     "collapsed": false,
     "input": [
      "## linear fit for the gamma absorption data set (with corretion for the background noise)\n",
      "fitted_gamma, coefficients = v253.polynom_fit(thickness, np.log(decays_second-n0_gamma))\n",
      "\n",
      "## now we will plot (n - n0_beta) in a log-lin plot against the thickness\n",
      "plt.yscale('log')\n",
      "plt.xlabel('Thickness lead [mm]')\n",
      "plt.ylabel('Decay log(n - n0_gamma) [1/s]')\n",
      "plt.title('Plot 2: Absorption von $\\gamma$ - Strahlung')\n",
      "plt.xlim(-1, 51)\n",
      "plt.ylim(1, 2*10**2)\n",
      "plt.plot(thickness,  decays_second - n0_gamma, 'go', label=r'Messwerte')\n",
      "plt.plot(thickness, np.exp(fitted_gamma), 'b-', label=r'Linearer Fit: $ k*x + b$ ')\n",
      "plt.legend(loc='best',prop={'size':16})"
     ],
     "language": "python",
     "metadata": {},
     "outputs": [
      {
       "metadata": {},
       "output_type": "pyout",
       "prompt_number": 101,
       "text": [
        "<matplotlib.legend.Legend at 0x7f7710a77da0>"
       ]
      },
      {
       "metadata": {},
       "output_type": "display_data",
       "png": "[encoded data removed]",
       "text": [
        "<matplotlib.figure.Figure at 0x7f7710aacda0>"
       ]
      }
     ],
     "prompt_number": 101
    },
    {
     "cell_type": "code",
     "collapsed": false,
     "input": [
      "#We're now interested in the slope of the fitted function:\n",
      "slope = -np.exp(coefficients[0])\n",
      "print('Die Steigung betr\u00e4gt: ' + str(slope))"
     ],
     "language": "python",
     "metadata": {},
     "outputs": [
      {
       "output_type": "stream",
       "stream": "stdout",
       "text": [
        "Die Steigung betr\u00e4gt: -0.940036432836\n"
       ]
      }
     ],
     "prompt_number": 102
    },
    {
     "cell_type": "markdown",
     "metadata": {},
     "source": [
      "VII.4\n",
      "====="
     ]
    },
    {
     "cell_type": "code",
     "collapsed": false,
     "input": [
      "## reading in the data from the first file\n",
      "## keep in mind, that the first row is skipped by the function\n",
      "\n",
      "data = v253.load_data(alpha_path)\n",
      "\n",
      "pressure = data[1]\n",
      "decays = data[2]\n",
      "## decays divided by 60 because of a 60 second measuring period \n",
      "decays_second = decays/60.\n",
      "decay_err = np.sqrt(decays_second)"
     ],
     "language": "python",
     "metadata": {},
     "outputs": [],
     "prompt_number": 103
    },
    {
     "cell_type": "code",
     "collapsed": false,
     "input": [
      "## now we will plot (n - n0_beta) in a log-lin plot against the thickness\n",
      "plt.xlabel('Air pressure [mbar]')\n",
      "plt.ylabel('Decay alpha [1/s]')\n",
      "plt.title('Plot 3: Absorption von Alpha-Strahlung')\n",
      "plt.xlim(-10, 1100)\n",
      "plt.ylim(-5, 90)\n",
      "plt.plot(pressure,  decays_second, 'go', label=r'Messwerte')\n",
      "plt.legend(loc='best',prop={'size':16})"
     ],
     "language": "python",
     "metadata": {},
     "outputs": [
      {
       "metadata": {},
       "output_type": "pyout",
       "prompt_number": 104,
       "text": [
        "<matplotlib.legend.Legend at 0x7f771078eb70>"
       ]
      },
      {
       "metadata": {},
       "output_type": "display_data",
       "png": "[encoded data removed]",
       "text": [
        "<matplotlib.figure.Figure at 0x7f77108309b0>"
       ]
      }
     ],
     "prompt_number": 104
    },
    {
     "cell_type": "code",
     "collapsed": false,
     "input": [
      "# finding the pressure at which the decay decreased to half of the original value:\n",
      "\n",
      "print('Druck: ' + str(pressure[np.abs(decays_second - np.max(decays_second)/2).argmin()]) + ' mbar')"
     ],
     "language": "python",
     "metadata": {},
     "outputs": [
      {
       "output_type": "stream",
       "stream": "stdout",
       "text": [
        "Druck: 345.0 mbar\n"
       ]
      }
     ],
     "prompt_number": 105
    },
    {
     "cell_type": "code",
     "collapsed": false,
     "input": [],
     "language": "python",
     "metadata": {},
     "outputs": [],
     "prompt_number": 105
    },
    {
     "cell_type": "code",
     "collapsed": false,
     "input": [],
     "language": "python",
     "metadata": {},
     "outputs": [],
     "prompt_number": 105
    }
   ],
   "metadata": {}
  }
 ]
}